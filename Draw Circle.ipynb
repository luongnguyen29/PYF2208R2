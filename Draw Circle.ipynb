{
 "cells": [
  {
   "cell_type": "code",
   "execution_count": 10,
   "id": "f644086e",
   "metadata": {},
   "outputs": [
    {
     "ename": "TypeError",
     "evalue": "TPen.penup() takes 1 positional argument but 2 were given",
     "output_type": "error",
     "traceback": [
      "\u001b[1;31m---------------------------------------------------------------------------\u001b[0m",
      "\u001b[1;31mTypeError\u001b[0m                                 Traceback (most recent call last)",
      "Input \u001b[1;32mIn [10]\u001b[0m, in \u001b[0;36m<cell line: 10>\u001b[1;34m()\u001b[0m\n\u001b[0;32m      8\u001b[0m pen\u001b[38;5;241m.\u001b[39mcircle(\u001b[38;5;241m150\u001b[39m)\n\u001b[0;32m      9\u001b[0m pen\u001b[38;5;241m.\u001b[39mend_fill()\n\u001b[1;32m---> 10\u001b[0m \u001b[43mpen\u001b[49m\u001b[38;5;241;43m.\u001b[39;49m\u001b[43mpenup\u001b[49m\u001b[43m(\u001b[49m\u001b[38;5;241;43m50\u001b[39;49m\u001b[43m)\u001b[49m\n\u001b[0;32m     11\u001b[0m turtle\u001b[38;5;241m.\u001b[39mdone()\n",
      "\u001b[1;31mTypeError\u001b[0m: TPen.penup() takes 1 positional argument but 2 were given"
     ]
    }
   ],
   "source": [
    "import turtle\n",
    "pen = turtle.Turtle()\n",
    "pen.pensize(5)\n",
    "pen.pencolor(\"red\")\n",
    "turtle.Turtle().goto(-50,120)\n",
    "pen.fillcolor(\"blue\")\n",
    "pen.begin_fill()\n",
    "pen.circle(150)\n",
    "pen.end_fill()\n",
    "pen.penup(50)\n",
    "turtle.done()\n"
   ]
  }
 ],
 "metadata": {
  "kernelspec": {
   "display_name": "Python 3 (ipykernel)",
   "language": "python",
   "name": "python3"
  },
  "language_info": {
   "codemirror_mode": {
    "name": "ipython",
    "version": 3
   },
   "file_extension": ".py",
   "mimetype": "text/x-python",
   "name": "python",
   "nbconvert_exporter": "python",
   "pygments_lexer": "ipython3",
   "version": "3.10.6"
  }
 },
 "nbformat": 4,
 "nbformat_minor": 5
}
