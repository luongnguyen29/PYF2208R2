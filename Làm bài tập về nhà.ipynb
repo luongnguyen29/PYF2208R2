{
 "cells": [
  {
   "cell_type": "markdown",
   "id": "94ba8736",
   "metadata": {},
   "source": [
    "## Bài 1: Tính diện tích tam giác"
   ]
  },
  {
   "cell_type": "code",
   "execution_count": 3,
   "id": "21525c40",
   "metadata": {},
   "outputs": [
    {
     "name": "stdout",
     "output_type": "stream",
     "text": [
      "Nhập vào 1 cạnh của tam giác: 3\n",
      "Nhập vào 1 cạnh cảu tam giác: 4\n",
      "Nhập vào 1 cạnh của tam giác: 5\n",
      "Diện tích tam giác là: 36.0\n"
     ]
    }
   ],
   "source": [
    "a = float(input(\"Nhập vào 1 cạnh của tam giác: \"))\n",
    "b = float(input(\"Nhập vào 1 cạnh cảu tam giác: \"))\n",
    "c = float(input(\"Nhập vào 1 cạnh của tam giác: \"))\n",
    "\n",
    "chu_vi = (a+b+c)/2\n",
    "dien_tich = (chu_vi*(chu_vi-a)*chu_vi*(chu_vi-b)*chu_vi*(chu_vi-c))**0.5\n",
    "print(f'Diện tích tam giác là: {dien_tich}')"
   ]
  },
  {
   "cell_type": "markdown",
   "id": "c3961961",
   "metadata": {},
   "source": [
    "## Bài 2: Nhập xuất dữ liệu vs String - Tô màu cho hình chữ nhật \n",
    "\n",
    "Nhập vào tên màu/mã màu cần tô. Nhập vào chiều dài, rộng hình chữ nhật. Vẽ hình chữ nhật. Tô màu cho hình tròn theo màu vừa nhập."
   ]
  },
  {
   "cell_type": "code",
   "execution_count": 11,
   "id": "f7131958",
   "metadata": {},
   "outputs": [
    {
     "name": "stdout",
     "output_type": "stream",
     "text": [
      "Nhập tên màu: pink\n",
      "Nhập chiều dài: 300\n",
      "Nhập chiều rộng: 40\n",
      "Chu vi là: 680.0 cm\n",
      "Diện tích là: 12000.0 cm2\n"
     ]
    }
   ],
   "source": [
    "import turtle\n",
    "pen = turtle.Turtle()\n",
    "\n",
    "# Nhập tên/mã màu cần tô\n",
    "ten_mau = str(input(\"Nhập tên màu: \"))\n",
    "chieu_dai = float(input(\"Nhập chiều dài: \"))\n",
    "chieu_rong = float(input(\"Nhập chiều rộng: \"))\n",
    "chu_vi = (chieu_dai + chieu_rong)*2\n",
    "dien_tich = chieu_dai * chieu_rong\n",
    "print(f'Chu vi là: {chu_vi} cm')\n",
    "print(f'Diện tích là: {dien_tich} cm2')\n",
    "\n",
    "# Vẽ hình\n",
    "pen.begin_fill()\n",
    "pen.forward(chieu_dai)\n",
    "pen.right(90)\n",
    "pen.forward(chieu_rong)\n",
    "pen.right(90)\n",
    "pen.forward(chieu_dai)\n",
    "pen.right(90)\n",
    "pen.forward(chieu_rong)\n",
    "pen.fillcolor(ten_mau)\n",
    "pen.end_fill()\n",
    "\n",
    "turtle.done()\n"
   ]
  },
  {
   "cell_type": "markdown",
   "id": "c400c3b8",
   "metadata": {},
   "source": [
    "## Bài 3: Nhập xuất dữ liệu vs String - Ứng dụng chuyển đổi tiền tệ\n",
    "\n",
    "Bước 1: Nhập số tiền USD cần đổi\n",
    "\n",
    "Bước 2: Nhập tỉ giá USD/VND \n",
    "\n",
    "Bước 3: Tính toán ra số tiền VND theo tỉ giá và số tiền USD nhập vào bên trên\n",
    "\n",
    "Bước 4: In ra kết quả"
   ]
  },
  {
   "cell_type": "code",
   "execution_count": 12,
   "id": "e64766b5",
   "metadata": {
    "scrolled": true
   },
   "outputs": [
    {
     "name": "stdout",
     "output_type": "stream",
     "text": [
      "Nhập số tiền cần đổi (USD): 24\n",
      "Nhập tỷ giá USD/VND: 24000\n",
      "576000.0\n"
     ]
    }
   ],
   "source": [
    "usd = float(input(\"Nhập số tiền cần đổi (USD): \"))\n",
    "rate = float(input(\"Nhập tỷ giá USD/VND: \"))\n",
    "vnd = usd*rate\n",
    "print(vnd)"
   ]
  },
  {
   "cell_type": "code",
   "execution_count": 16,
   "id": "11020488",
   "metadata": {},
   "outputs": [
    {
     "name": "stdout",
     "output_type": "stream",
     "text": [
      "<class 'str'>\n"
     ]
    },
    {
     "data": {
      "text/plain": [
       "'i'"
      ]
     },
     "execution_count": 16,
     "metadata": {},
     "output_type": "execute_result"
    }
   ],
   "source": [
    "name = \"điệp viên 007\"\n",
    "print(type(name))\n",
    "name[1]"
   ]
  },
  {
   "cell_type": "markdown",
   "id": "7618129c",
   "metadata": {},
   "source": [
    "## Bài 4: Điều kiện - Vẽ hình và tô màu theo lựa chọn\n",
    "\n",
    "Viết chương trình cho người dùng nhập vào kiểu dáng hình vẽ và màu sắc mong muốn. \n",
    "\n",
    "Hình dáng: vuông hoặc tròn.\n",
    "\n",
    "Màu sắc: Vàng, đỏ và xanh dương.\n",
    "\n",
    "Sau đó in ra hình vẽ tương ứng"
   ]
  },
  {
   "cell_type": "code",
   "execution_count": 30,
   "id": "2ad2653b",
   "metadata": {},
   "outputs": [
    {
     "name": "stdout",
     "output_type": "stream",
     "text": [
      "Circle or Square, which shape is your favorite: rectangular\n",
      "Sorry, I don't have this shape\n"
     ]
    }
   ],
   "source": [
    "import turtle\n",
    "\n",
    "#Nhập khai báo\n",
    "shape = str(input(\"Circle or Square, which shape is your favorite: \"))\n",
    "\n",
    "if shape == \"Circle\" or shape == \"Square\":\n",
    "    color = str(input(\"What color will it be? yellow, red or green: \"))\n",
    "    if color == \"yellow\" or color == \"red\" or color == \"green\":\n",
    "        wn = turtle.Screen()\n",
    "        wn.bgcolor('black')\n",
    "        wn.title(\"Your shape\")\n",
    "        \n",
    "        displayShape = turtle.Turtle()\n",
    "        displayShape.shape(shape)\n",
    "        displayShape.color(color)\n",
    "        turtle.done()\n",
    "    else:\n",
    "        print(\"Sorry, I don't have this color\")\n",
    "else:\n",
    "    print(\"Sorry, I don't have this shape\")"
   ]
  },
  {
   "cell_type": "markdown",
   "id": "475029fa",
   "metadata": {},
   "source": [
    "## Bài 5: Điều kiện - Tô màu hình \n",
    "\n",
    "Lấy một số ngẫu nhiên kiểu float từ 0 đến 3, sau đó chuyển về kiểu int. Dựa vào số vừa chuyển, in ra hình tròn với màu sắc tương ứng như sau:\n",
    "\n",
    "Bé hơn 1 ⇒ màu xanh\n",
    "\n",
    "Bé hơn 2 ⇒  màu vàng\n",
    "\n",
    "Bé hơn 3 ⇒  màu đỏ"
   ]
  },
  {
   "cell_type": "code",
   "execution_count": 3,
   "id": "137981cf",
   "metadata": {},
   "outputs": [],
   "source": [
    "# lấy 1 số ngẫu nhiên - dùng random\n",
    "import turtle\n",
    "import random\n",
    "\n",
    "number = random.uniform(0,3)\n",
    "intnumber = int(number)\n",
    "\n",
    "#Setup cửa sổ terminal\n",
    "wn = turtle.Screen()\n",
    "wn.bgcolor(\"black\")\n",
    "wn.title(\"Circle\")\n",
    "\n",
    "#Setup hình dạng của khối tròn\n",
    "ball = turtle.Turtle()\n",
    "ball.shape(\"circle\")\n",
    "\n",
    "#Kiểm tra giá trị biến intnumber\n",
    "if intnumber < 1:\n",
    "    ball.color(\"blue\")\n",
    "elif intnumber < 2 : \n",
    "    ball.color(\"yellow\")\n",
    "elif intnumber < 3:\n",
    "    ball.color(\"red\")\n",
    "\n",
    "turtle.done()\n"
   ]
  },
  {
   "cell_type": "markdown",
   "id": "49ba1022",
   "metadata": {},
   "source": [
    "## Bài 6: Điều kiện - Luyện tập với toán tử ba ngôi\n",
    "Kiểm tra số nhập vào là số chẳn hoặc lẻ, sử dụng toán tử điều kiện ba ngôi"
   ]
  },
  {
   "cell_type": "code",
   "execution_count": 4,
   "id": "d9fa0693",
   "metadata": {},
   "outputs": [
    {
     "name": "stdout",
     "output_type": "stream",
     "text": [
      "Nhập vào một số bất kỳ: 4\n",
      "Số nhập vào là số chẵn\n"
     ]
    }
   ],
   "source": [
    "number = float(input(\"Nhập vào một số bất kỳ: \"))\n",
    "if number%2==0:\n",
    "    print(\"Số nhập vào là số chẵn\")\n",
    "else:\n",
    "    print(\"Số nhập vào là số lẻ\")"
   ]
  },
  {
   "cell_type": "markdown",
   "id": "5bebe1f0",
   "metadata": {},
   "source": [
    "## Bài 7: Điều kiện - Kiểm tra số chẵn/lẻ\n",
    "Luyện tập sử dụng khối lệnh if…elif…else trong lập trình.\n",
    "\n",
    "Viết chương trình có khả năng kiểm tra tính chất chẵn lẻ của một số nhập vào. In ra màn hình số nhập vào là số chẵn, số lẽ hay không phải là các trường hợp trên."
   ]
  },
  {
   "cell_type": "code",
   "execution_count": 7,
   "id": "6cd0b748",
   "metadata": {
    "scrolled": true
   },
   "outputs": [
    {
     "name": "stdout",
     "output_type": "stream",
     "text": [
      "Nhập vào một số bất kỳ: 0.9\n",
      "Không phải là số tự nhiên\n"
     ]
    }
   ],
   "source": [
    "number = float(input(\"Nhập vào một số bất kỳ: \"))\n",
    "if number%2==0:\n",
    "    print(\"Số nhập vào là số chẵn\")\n",
    "elif number%2==1:\n",
    "    print(\"Số nhập vào là số lẻ\")\n",
    "else:\n",
    "    print(\"Không phải là số tự nhiên\")"
   ]
  },
  {
   "cell_type": "markdown",
   "id": "b062530f",
   "metadata": {},
   "source": [
    "## Bài 8: Điều kiện - Hiển thị ngày trong tuần\n",
    "Luyện tập sử dụng khối lệnh if…elif…else trong lập trình.\n",
    "\n",
    "Viết chương trình yêu cầu người dùng nhập một số trong phạm vi từ 1 đến 7. Sau đó hãy in ra ngày tương ứng: \n",
    "\n",
    "1: Monday\n",
    "\n",
    "2: Tuesday\n",
    "\n",
    "3: Wednesday\n",
    "\n",
    "4: Thursday\n",
    "\n",
    "5: Friday\n",
    "\n",
    "6: Saturday\n",
    "\n",
    "7: Sunday\n",
    "\n",
    "Nếu người dùng nhập số ngoài phạm vi từ 1 đến 7 thì hãy in ra “error, out of range”."
   ]
  },
  {
   "cell_type": "code",
   "execution_count": 16,
   "id": "dba7f29e",
   "metadata": {},
   "outputs": [
    {
     "name": "stdout",
     "output_type": "stream",
     "text": [
      "Nhập một số từ 1 - 7: 7\n",
      "Sunday\n"
     ]
    }
   ],
   "source": [
    "number = int(input(\"Nhập một số từ 1 - 7: \"))\n",
    "if number==1:\n",
    "    print(\"Monday\")\n",
    "elif number==2:\n",
    "    print(\"Tuesday\")\n",
    "elif number==3:\n",
    "    print(\"Wednesday\")\n",
    "elif number==4:\n",
    "    print(\"Thursday\")\n",
    "elif number==5:\n",
    "    print(\"Friday\")\n",
    "elif number==6:\n",
    "    print(\"Saturday\")\n",
    "elif number==7:\n",
    "    print(\"Sunday\")\n",
    "else:\n",
    "    print(\"Error, out of range!\")"
   ]
  },
  {
   "cell_type": "markdown",
   "id": "ffac03f9",
   "metadata": {},
   "source": [
    "## Bài 9: Điều kiện - Hiển thị thông tin đơn hàng\n",
    "Viết chương trình hỏi người dùng đã chi bao nhiêu tiền tại cửa hàng.\n",
    "\n",
    "Nếu họ chi ít hơn 75$, họ sẽ không được giảm giá.\n",
    "\n",
    "Nếu họ chi 75$ trở lên, họ sẽ được giảm giá 15$.\n",
    "\n",
    "Nếu người dùng chi từ 100$ trở lên, họ sẽ được giảm giá 25$.\n",
    "\n",
    "Nếu người dùng chi từ 150$ trở lên, họ sẽ được giảm giá 50$.\n",
    "Sau đó in ra tổng số tiền mà người dùng phải thanh toán."
   ]
  },
  {
   "cell_type": "code",
   "execution_count": 23,
   "id": "c7ea6368",
   "metadata": {},
   "outputs": [
    {
     "name": "stdout",
     "output_type": "stream",
     "text": [
      "Nhập số tiền USD bạn đã chi tại cửa hàng: 40\n",
      "Bạn không được giảm giá\n"
     ]
    }
   ],
   "source": [
    "paid = float(input(\"Nhập số tiền USD bạn đã chi tại cửa hàng: \"))\n",
    "if paid > 150:\n",
    "    print(f'Số tiền bạn phải thanh toán là: {paid - 0.5*150} USD')\n",
    "elif paid > 100:\n",
    "    print(f'Số tiền bạn phải thanh toán là: {paid - 0.25*100} USD')\n",
    "elif paid > 75:\n",
    "    print(f'Số tiền bạn phải thanh toán là: {paid - 0.15*75} USD')\n",
    "else:\n",
    "    print('Bạn không được giảm giá')\n",
    "          "
   ]
  },
  {
   "cell_type": "markdown",
   "id": "92d84697",
   "metadata": {},
   "source": [
    "## 10: Điều kiện - Tính chỉ số cân nặng của cơ thể (Python)\n",
    "Viết chương trình cho người dùng nhập cân nặng và chiều cao của mình. Sau đó hãy in ra chỉ số BMI (Body mass index), và tình trạng cơ thể của họ dựa theo công thức và bảng giá trị sau:\n",
    "\n",
    "BMI = cân nặng / (chiều cao ^ 2)\n",
    "\n",
    "Trong đó cân nặng tính bằng kg và chiều cao tính bằng m\n",
    "\n",
    "Chỉ số BMI đối với người trên 20 tuổi được phân loại và diễn giải theo bảng sau:\n",
    "\n",
    "BMI < 16: Gầy cấp độ III\n",
    "16 <= BMI < 17:  Gầy cấp độ II\n",
    "17<= BMI < 18.5: Gầy cấp độ I\n",
    "18.5 <= BMI < 25: Bình thường\n",
    "25 <= BMI < 30: Thừa cân\n",
    "30 <= BMI < 35 : Béo phì cấp độ I\n",
    "35 <= BMI < 40: Béo phì cấp độ II\n",
    "BMI > 40: Béo phì cấp độ III"
   ]
  },
  {
   "cell_type": "code",
   "execution_count": 30,
   "id": "acf2c365",
   "metadata": {
    "scrolled": true
   },
   "outputs": [
    {
     "name": "stdout",
     "output_type": "stream",
     "text": [
      "Nhập chiều cao (m): 1.3\n",
      "Nhập cân nặng (kg): 50\n",
      "Nhập tuổi của bạn: 12\n",
      "Ngoài độ tuổi tính BMI\n"
     ]
    }
   ],
   "source": [
    "height = float(input(\"Nhập chiều cao (m): \"))\n",
    "weight = float(input(\"Nhập cân nặng (kg): \"))\n",
    "age = int(input(\"Nhập tuổi của bạn: \"))\n",
    "\n",
    "BMI = weight/(height**2)\n",
    "if age > 20:\n",
    "    if BMI > 40:\n",
    "        print(\"Béo phì cấp độ III\")\n",
    "    elif 35 <= BMI < 40:\n",
    "        print(\"Béo phì cấp độ II\")\n",
    "    elif 30 <= BMI < 35:\n",
    "        print(\"Béo phì cấp độ I\")\n",
    "    elif 25 <= BMI < 30:\n",
    "        print(\"Thừa cân\")\n",
    "    elif 18.5 <= BMI < 25:\n",
    "        print(\"Bình thường\")\n",
    "    elif 17 <= BMI < 18.5:\n",
    "        print('Gầy cấp độ I')\n",
    "    elif 16 <= BMI < 17:\n",
    "        print('Gầy cấp độ II')\n",
    "    else:\n",
    "        print('Gầy cấp độ III')\n",
    "else:\n",
    "    print(\"Ngoài độ tuổi tính BMI\")\n"
   ]
  },
  {
   "cell_type": "code",
   "execution_count": 31,
   "id": "76cdd1c9",
   "metadata": {
    "scrolled": true
   },
   "outputs": [
    {
     "ename": "SyntaxError",
     "evalue": "invalid character '‘' (U+2018) (1297474479.py, line 1)",
     "output_type": "error",
     "traceback": [
      "\u001b[1;36m  Input \u001b[1;32mIn [31]\u001b[1;36m\u001b[0m\n\u001b[1;33m    if (1, 2): print(‘foo’)\u001b[0m\n\u001b[1;37m                     ^\u001b[0m\n\u001b[1;31mSyntaxError\u001b[0m\u001b[1;31m:\u001b[0m invalid character '‘' (U+2018)\n"
     ]
    }
   ],
   "source": [
    "if (1, 2): print(‘foo’)"
   ]
  },
  {
   "cell_type": "code",
   "execution_count": 7,
   "id": "52de7af9",
   "metadata": {},
   "outputs": [
    {
     "ename": "AttributeError",
     "evalue": "'str' object has no attribute 'Title'",
     "output_type": "error",
     "traceback": [
      "\u001b[1;31m---------------------------------------------------------------------------\u001b[0m",
      "\u001b[1;31mAttributeError\u001b[0m                            Traceback (most recent call last)",
      "Input \u001b[1;32mIn [7]\u001b[0m, in \u001b[0;36m<cell line: 2>\u001b[1;34m()\u001b[0m\n\u001b[0;32m      1\u001b[0m c \u001b[38;5;241m=\u001b[39m \u001b[38;5;124m\"\u001b[39m\u001b[38;5;124mnhập vào 1 số nguyên tố\u001b[39m\u001b[38;5;124m\"\u001b[39m\n\u001b[1;32m----> 2\u001b[0m \u001b[43mc\u001b[49m\u001b[38;5;241;43m.\u001b[39;49m\u001b[43mTitle\u001b[49m()\n",
      "\u001b[1;31mAttributeError\u001b[0m: 'str' object has no attribute 'Title'"
     ]
    }
   ],
   "source": [
    "c = \"nhập vào 1 số nguyên tố\"\n",
    "c.Title()\n"
   ]
  },
  {
   "cell_type": "code",
   "execution_count": 1,
   "id": "2efb4288",
   "metadata": {},
   "outputs": [
    {
     "name": "stdout",
     "output_type": "stream",
     "text": [
      "Nhập vào số bất kỳ: 8\n",
      "0\n",
      "2\n",
      "4\n",
      "6\n",
      "8\n"
     ]
    }
   ],
   "source": [
    "n = int(input(\"Nhập vào số bất kỳ: \"))\n",
    "count = 0\n",
    "while count <= n:\n",
    "    print(count)\n",
    "    count+=2"
   ]
  },
  {
   "cell_type": "code",
   "execution_count": 1,
   "id": "34d772f8",
   "metadata": {},
   "outputs": [
    {
     "name": "stdout",
     "output_type": "stream",
     "text": [
      "Nhập vào số bất kỳ: 18\n",
      "17\n",
      "15\n",
      "13\n",
      "11\n",
      "9\n",
      "7\n",
      "5\n",
      "3\n",
      "1\n"
     ]
    }
   ],
   "source": [
    "n = int(input(\"Nhập vào số bất kỳ: \"))\n",
    "while n >= 1:\n",
    "    if n % 2 == 1:\n",
    "        print(n)\n",
    "    n-=1\n",
    "    "
   ]
  },
  {
   "cell_type": "code",
   "execution_count": 4,
   "id": "bce00cad",
   "metadata": {},
   "outputs": [
    {
     "name": "stdout",
     "output_type": "stream",
     "text": [
      "Nhập chuỗi bất kỳ: fagegh\n",
      "hgegaf"
     ]
    }
   ],
   "source": [
    "a = input(\"Nhập chuỗi bất kỳ: \")\n",
    "index = len(a) - 1\n",
    "while index >= 0:\n",
    "    print(a[index], end='')\n",
    "    index-=1    \n",
    "\n",
    "\n",
    "\n",
    "    "
   ]
  },
  {
   "cell_type": "markdown",
   "id": "e52b68dd",
   "metadata": {},
   "source": [
    "## 11. For Loop - Viết chương trình khi chạy sẽ vẽ ra cho nguời dùng được hình vuông."
   ]
  },
  {
   "cell_type": "code",
   "execution_count": 7,
   "id": "49f4b8d4",
   "metadata": {},
   "outputs": [],
   "source": [
    "import turtle\n",
    "pen = turtle.Turtle()\n",
    "wn = turtle.Screen()\n",
    "wn.bgcolor(\"black\")\n",
    "wn.title(\"Square\")\n",
    "pen.color(\"red\")\n",
    "for i in range(1,5):\n",
    "    pen.forward(50)\n",
    "    pen.left(90)\n",
    "turtle.done()"
   ]
  },
  {
   "cell_type": "markdown",
   "id": "edb26eb0",
   "metadata": {},
   "source": [
    "## 12. For Loop - vẽ ngôi sao"
   ]
  },
  {
   "attachments": {
    "image.png": {
     "image/png": "[encoded data removed]"
    }
   },
   "cell_type": "markdown",
   "id": "bbe9b555",
   "metadata": {},
   "source": [
    "![image.png](attachment:image.png)"
   ]
  },
  {
   "cell_type": "code",
   "execution_count": null,
   "id": "e08112e4",
   "metadata": {},
   "outputs": [],
   "source": [
    "import turtle\n",
    "pen = turtle.Turtle()\n",
    "wn = turtle.Screen()\n",
    "wn.bgcolor(\"black\")\n",
    "wn.title(\"Start\")\n",
    "pen.color(\"red\")\n",
    "for j in range(0,100):\n",
    "    for i in range(1,6):\n",
    "        pen.forward(200)\n",
    "        pen.left(144)\n",
    "    pen.left(5)\n",
    "    break\n",
    "turtle.done()"
   ]
  },
  {
   "cell_type": "markdown",
   "id": "6b0d3b36",
   "metadata": {},
   "source": [
    "## 12 - or…in, nested loops, if…elif…else - Vẽ hình chữ nhật bằng ký tự\n",
    "\n",
    "Viết chương trình cho phép người dùng nhập ký tự muốn dùng để vẽ, chiều cao và chiều rộng của hình. Sau đó in ra hình tứ giác được vẽ bằng ký tự vừa nhập, với chiều cao và chiều rộng tương ứng (lưu ý chỉ các cạnh hình được vẽ bằng ký tự, bên trong hình sẽ được thay thế bằng dấu space ‘  ‘) "
   ]
  },
  {
   "cell_type": "code",
   "execution_count": 12,
   "id": "96a67c6b",
   "metadata": {
    "scrolled": true
   },
   "outputs": [
    {
     "name": "stdout",
     "output_type": "stream",
     "text": [
      "Your char: *\n",
      "Please input width of rectangle: 40\n",
      "Please input height of rectangle: 10\n",
      "****************************************\n",
      "*                                      *\n",
      "*                                      *\n",
      "*                                      *\n",
      "*                                      *\n",
      "*                                      *\n",
      "*                                      *\n",
      "*                                      *\n",
      "*                                      *\n",
      "****************************************\n"
     ]
    }
   ],
   "source": [
    "char = input('Your char: ')\n",
    "width = int(input(\"Please input width of rectangle: \"))\n",
    "height = int(input(\"Please input height of rectangle: \"))\n",
    "for i in range(1,height+1):\n",
    "    print_str=''\n",
    "    for j in range(1,width+1):\n",
    "        if i == 1 or i == height:\n",
    "            print_str += char\n",
    "        else:\n",
    "            if j == 1 or j == width:\n",
    "                print_str += char\n",
    "            else:\n",
    "                print_str += ' '\n",
    "    print(print_str)\n",
    "  "
   ]
  },
  {
   "cell_type": "markdown",
   "id": "44fb7966",
   "metadata": {},
   "source": [
    "## 13. Bước 1: Cho người dùng nhập biến\n",
    "\n",
    " Dùng hàm input() để nhập hai số bất kì. \n",
    "Dùng hàm split() để tách chuỗi số vừa nhập để lấy được số bất đầu và số kết thúc.\n",
    "Dùng hàm int() để chuyển số bắt đầu và kết thúc về kiểu int.\n",
    "Bước 2: Kiểm tra biến nhập\n",
    "\n",
    "Dùng if…else để xử lý hai trường hợp có thể xảy ra:\n",
    "Nếu số kết thúc bé hơn số bắt đầu thì thông báo số kết thúc cần lớn hơn số bắt    đầu\n",
    "Nếu số bắt đầu lớn hơn hoặc bằng số kết thúc thì bắt đầu xử lý việc in kết quả\n",
    "Bước 3: Bắt đầu xử lý việc in kết quả\n",
    "\n",
    "Dùng for…in range(start, end) để khởi tạo vòng lặp. \n",
    "Lưu ý: vòng lặp sẽ bắt đầu từ startNumber và kết thúc ở endNumber + 1 (để vòng lặp sẽ lặp qua được endNumber )\n",
    "\n",
    "Trong mỗi vòng lặp sẽ dùng khổi lệnh if…elif…else để kiểm tra biến lặp và in ra kết quả phù hợp: \n",
    "Chia hết cho 3 và 5 thì in ra “FizzBuzz”\n",
    "Hoặc chia hết cho 3 thì in ra “Fizz”\n",
    "Hoặc chia hết cho 5 thì in ra “Buzz”\n",
    "Không thuộc 3 trường hợp trên thì ra chính giá trị của biến lặp"
   ]
  },
  {
   "cell_type": "code",
   "execution_count": 8,
   "id": "ce04936e",
   "metadata": {
    "scrolled": true
   },
   "outputs": [
    {
     "name": "stdout",
     "output_type": "stream",
     "text": [
      "Nhập số bất kỳ thứ nhất: 10\n",
      "Nhập số bất kỳ thứ 2: 40\n",
      "Buzz\n",
      "11\n",
      "Fizz\n",
      "13\n",
      "14\n",
      "FizzBuzz\n",
      "16\n",
      "17\n",
      "Fizz\n",
      "19\n",
      "Buzz\n",
      "Fizz\n",
      "22\n",
      "23\n",
      "Fizz\n",
      "Buzz\n",
      "26\n",
      "Fizz\n",
      "28\n",
      "29\n",
      "FizzBuzz\n",
      "31\n",
      "32\n",
      "Fizz\n",
      "34\n",
      "Buzz\n",
      "Fizz\n",
      "37\n",
      "38\n",
      "Fizz\n",
      "Buzz\n"
     ]
    }
   ],
   "source": [
    "num_1 = int(input(\"Nhập số bất kỳ thứ nhất: \"))\n",
    "num_2 = int(input(\"Nhập số bất kỳ thứ 2: \"))\n",
    "if num_2 <= num_1:\n",
    "    print(\"Số thứ 2 cần lớn hơn số thứ nhất \")\n",
    "else:\n",
    "    for i in range(num_1,num_2+1):\n",
    "        if not i%3 and not i%5:\n",
    "            print(\"FizzBuzz\")\n",
    "        elif not i%3:\n",
    "            print(\"Fizz\")\n",
    "        elif not i%5:\n",
    "            print(\"Buzz\")\n",
    "        else:\n",
    "            print(i)"
   ]
  },
  {
   "cell_type": "code",
   "execution_count": 9,
   "id": "7df0b050",
   "metadata": {},
   "outputs": [
    {
     "name": "stdout",
     "output_type": "stream",
     "text": [
      "10 3\n",
      "11 2\n",
      "12 11\n",
      "13 2\n"
     ]
    }
   ],
   "source": [
    "for num in range(10, 14):\n",
    "\n",
    "   for i in range(2, num):\n",
    "\n",
    "       if num%i == 1:\n",
    "\n",
    "          print(num, i)\n",
    "\n",
    "          break"
   ]
  },
  {
   "cell_type": "code",
   "execution_count": 13,
   "id": "a18e76ea",
   "metadata": {
    "scrolled": true
   },
   "outputs": [
    {
     "name": "stdout",
     "output_type": "stream",
     "text": [
      "10\n",
      "11\n",
      "12\n",
      "13\n"
     ]
    }
   ],
   "source": [
    "for num in range(10, 14):\n",
    "    print(num)"
   ]
  },
  {
   "cell_type": "code",
   "execution_count": 14,
   "id": "e801cfcc",
   "metadata": {},
   "outputs": [
    {
     "name": "stdout",
     "output_type": "stream",
     "text": [
      "2\n",
      "3\n",
      "4\n",
      "5\n",
      "6\n",
      "7\n",
      "8\n",
      "9\n",
      "10\n",
      "11\n",
      "12\n"
     ]
    }
   ],
   "source": [
    "for i in range(2, num):\n",
    "    print(i)"
   ]
  },
  {
   "cell_type": "markdown",
   "id": "7c7035a9",
   "metadata": {},
   "source": []
  },
  {
   "cell_type": "code",
   "execution_count": 11,
   "id": "fa211275",
   "metadata": {
    "scrolled": false
   },
   "outputs": [
    {
     "name": "stdout",
     "output_type": "stream",
     "text": [
      "-1\n",
      "-2\n",
      "-3\n",
      "-4\n",
      "-5\n",
      "-6\n",
      "-7\n",
      "-8\n",
      "-9\n"
     ]
    }
   ],
   "source": [
    " for j in range(-1, -10, -1):\n",
    "        print(j)"
   ]
  },
  {
   "cell_type": "code",
   "execution_count": 12,
   "id": "12e7475a",
   "metadata": {},
   "outputs": [
    {
     "name": "stdout",
     "output_type": "stream",
     "text": [
      "0\n",
      "1\n",
      "2\n",
      "3\n",
      "4\n",
      "5\n",
      "6\n",
      "7\n",
      "8\n",
      "9\n"
     ]
    }
   ],
   "source": [
    "for i in range(10):\n",
    "    print(i)"
   ]
  },
  {
   "cell_type": "code",
   "execution_count": 10,
   "id": "a961518b",
   "metadata": {
    "scrolled": true
   },
   "outputs": [
    {
     "name": "stdout",
     "output_type": "stream",
     "text": [
      "1\n",
      "2\n",
      "3\n",
      "4\n",
      "5\n",
      "6\n",
      "7\n",
      "8\n",
      "9\n",
      "10\n",
      "11\n",
      "12\n",
      "13\n",
      "14\n",
      "15\n",
      "16\n",
      "17\n",
      "18\n",
      "19\n",
      "20\n",
      "21\n",
      "22\n",
      "23\n",
      "24\n",
      "25\n",
      "26\n",
      "27\n",
      "28\n",
      "29\n",
      "30\n",
      "31\n",
      "32\n",
      "33\n",
      "34\n",
      "35\n",
      "36\n",
      "37\n",
      "38\n",
      "39\n",
      "40\n",
      "41\n",
      "42\n",
      "43\n",
      "44\n",
      "45\n",
      "46\n",
      "47\n",
      "48\n",
      "49\n",
      "50\n",
      "51\n",
      "52\n",
      "53\n",
      "54\n",
      "55\n",
      "56\n",
      "57\n",
      "58\n",
      "59\n",
      "60\n",
      "61\n",
      "62\n",
      "63\n",
      "64\n",
      "65\n",
      "66\n",
      "67\n",
      "68\n",
      "69\n",
      "70\n",
      "71\n",
      "72\n",
      "73\n",
      "74\n",
      "75\n",
      "76\n",
      "77\n",
      "78\n",
      "79\n",
      "80\n",
      "81\n",
      "82\n",
      "83\n",
      "84\n",
      "85\n",
      "86\n",
      "87\n",
      "88\n",
      "89\n",
      "90\n"
     ]
    }
   ],
   "source": [
    "x = 0\n",
    "\n",
    "for i in range(10):\n",
    "\n",
    "  for j in range(-1, -10, -1):\n",
    "\n",
    "    x += 1\n",
    "\n",
    "    print(x)"
   ]
  },
  {
   "cell_type": "code",
   "execution_count": 21,
   "id": "92da9371",
   "metadata": {},
   "outputs": [
    {
     "name": "stdout",
     "output_type": "stream",
     "text": [
      "0123"
     ]
    }
   ],
   "source": [
    "a = [\"0\", \"1\", \"2\", \"3\"]\n",
    "\n",
    "for a in a:\n",
    "\n",
    "    print(a, end=\"\")"
   ]
  },
  {
   "cell_type": "code",
   "execution_count": 34,
   "id": "ddba6881",
   "metadata": {},
   "outputs": [
    {
     "name": "stdout",
     "output_type": "stream",
     "text": [
      "1\n",
      "x\n",
      "3\n",
      "x\n",
      "Here\n"
     ]
    }
   ],
   "source": [
    "for x in range(4):\n",
    "    x+=1\n",
    "    if x % 2 == 0:\n",
    "        continue\n",
    "    print(x)\n",
    "    print(\"x\")\n",
    "else:\n",
    "    print(\"Here\")"
   ]
  },
  {
   "cell_type": "code",
   "execution_count": 41,
   "id": "56b63c41",
   "metadata": {},
   "outputs": [
    {
     "name": "stdout",
     "output_type": "stream",
     "text": [
      "5\n"
     ]
    }
   ],
   "source": [
    "sum = 0\n",
    "\n",
    "values = [1,3,5,7]\n",
    "\n",
    "for number in values:\n",
    "    if number == 5:\n",
    "        pass\n",
    "        sum = sum + number\n",
    "\n",
    "print(sum)"
   ]
  },
  {
   "cell_type": "code",
   "execution_count": 43,
   "id": "a33a3695",
   "metadata": {},
   "outputs": [
    {
     "name": "stdout",
     "output_type": "stream",
     "text": [
      "0 1 2 3 4 "
     ]
    }
   ],
   "source": [
    "for i in range(10):\n",
    "\n",
    "    if i == 5:\n",
    "\n",
    "        break\n",
    "\n",
    "    else:\n",
    "\n",
    "        print(i, end=\" \")\n",
    "\n",
    "else:\n",
    "\n",
    "    print(\"Here\")"
   ]
  },
  {
   "cell_type": "code",
   "execution_count": 45,
   "id": "e32f0511",
   "metadata": {},
   "outputs": [
    {
     "name": "stdout",
     "output_type": "stream",
     "text": [
      "['ab', 'cd']\n"
     ]
    }
   ],
   "source": [
    "x = ['ab', 'cd']\n",
    "\n",
    "for i in x:\n",
    "\n",
    "    i.upper()\n",
    "\n",
    "print(x)"
   ]
  },
  {
   "cell_type": "markdown",
   "id": "cfefc492",
   "metadata": {},
   "source": []
  }
 ],
 "metadata": {
  "kernelspec": {
   "display_name": "Python 3 (ipykernel)",
   "language": "python",
   "name": "python3"
  },
  "language_info": {
   "codemirror_mode": {
    "name": "ipython",
    "version": 3
   },
   "file_extension": ".py",
   "mimetype": "text/x-python",
   "name": "python",
   "nbconvert_exporter": "python",
   "pygments_lexer": "ipython3",
   "version": "3.10.6"
  }
 },
 "nbformat": 4,
 "nbformat_minor": 5
}
