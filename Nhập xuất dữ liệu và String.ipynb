{
 "cells": [
  {
   "cell_type": "markdown",
   "id": "7ac14915",
   "metadata": {},
   "source": [
    "# Nhập xuất dữ liệu và String\n",
    "## Cách nhập xuất dữ liệu"
   ]
  },
  {
   "cell_type": "markdown",
   "id": "0f202ae8",
   "metadata": {},
   "source": [
    "### Xuất dữ liệu ra màn hình\n",
    "Để in các nội dung mà chúng ta mong muốn ra màn hình, ta sử dụng lệnh print()"
   ]
  },
  {
   "cell_type": "code",
   "execution_count": 1,
   "id": "a6d3f260",
   "metadata": {},
   "outputs": [
    {
     "name": "stdout",
     "output_type": "stream",
     "text": [
      "python is very easy\n"
     ]
    }
   ],
   "source": [
    "# Ví dụ: In ra nội dung \"python is very easy\"\n",
    "print(\"python is very easy\")"
   ]
  },
  {
   "cell_type": "markdown",
   "id": "7733925a",
   "metadata": {},
   "source": [
    "### Các cách custom với lệnh print"
   ]
  },
  {
   "cell_type": "markdown",
   "id": "292ab570",
   "metadata": {},
   "source": [
    "Để in một nội dung kèm theo giá trị của biến, ta có các cách sau:"
   ]
  },
  {
   "cell_type": "code",
   "execution_count": 4,
   "id": "20ff912c",
   "metadata": {},
   "outputs": [],
   "source": [
    "food_1 = \"chocolate\"\n",
    "food_2 = \"sandwich\"\n",
    "#  I love chocolate and hate sandwich\n",
    "# Câu trên đc ghép từ nhiều thành phần vs nhau\n",
    "# \"I love\" -- food 1 --   \"and hate\" -- food_2"
   ]
  },
  {
   "cell_type": "code",
   "execution_count": 2,
   "id": "6407a448",
   "metadata": {},
   "outputs": [
    {
     "name": "stdout",
     "output_type": "stream",
     "text": [
      "I love chocolate and hate sandwich\n"
     ]
    }
   ],
   "source": [
    "# In trực tiếp\n",
    "print(\"I love chocolate and hate sandwich\")"
   ]
  },
  {
   "cell_type": "code",
   "execution_count": 6,
   "id": "27d098b8",
   "metadata": {},
   "outputs": [
    {
     "name": "stdout",
     "output_type": "stream",
     "text": [
      "I love chocolate and hate sandwich\n"
     ]
    }
   ],
   "source": [
    "# In bằng cách ghép các nội dung với nhau\n",
    "print(\"I love\", food_1, \"and hate\", food_2)"
   ]
  },
  {
   "cell_type": "code",
   "execution_count": 10,
   "id": "717666f2",
   "metadata": {},
   "outputs": [
    {
     "name": "stdout",
     "output_type": "stream",
     "text": [
      "I love chocolate and I hate sandwich\n"
     ]
    }
   ],
   "source": [
    "# Sử dụng String Format\n",
    "print(f'I love {food_1} and I hate {food_2}')\n",
    "# cách này có vẻ nhanh nhanh vs dễ dùng"
   ]
  },
  {
   "cell_type": "code",
   "execution_count": 13,
   "id": "c7276e05",
   "metadata": {},
   "outputs": [
    {
     "name": "stdout",
     "output_type": "stream",
     "text": [
      "I love chocolate and hate sandwich"
     ]
    }
   ],
   "source": [
    "# Sử dụng nhiều lệnh print\n",
    "print(\"I love \", end='')\n",
    "print(food_1, end='')\n",
    "print(\" and hate \", end='')\n",
    "print(food_2, end='')\n",
    "# end ='' - là ko có xuống dòng, end = \\n, là xuống dòng, bao nhiêu \\n, thì bấy nhiêu xuống dòng"
   ]
  },
  {
   "cell_type": "markdown",
   "id": "e10788fb",
   "metadata": {},
   "source": [
    "### Nhập dữ liệu\n",
    "Để nhập dữ liệu vào chương trình python, chúng ta sử dụng hàm input()"
   ]
  },
  {
   "cell_type": "code",
   "execution_count": 18,
   "id": "3e1210cd",
   "metadata": {},
   "outputs": [
    {
     "name": "stdout",
     "output_type": "stream",
     "text": [
      "Please input your name: Luu Hannah\n",
      "Luu Hannah\n",
      "<class 'str'>\n"
     ]
    }
   ],
   "source": [
    "# Nhập giá trị thay đổi đc chứ ko phải gán giá trị cố đinh\n",
    "name = input(\"Please input your name: \")\n",
    "print(name)\n",
    "print(type(name))"
   ]
  },
  {
   "cell_type": "code",
   "execution_count": 20,
   "id": "5599b975",
   "metadata": {},
   "outputs": [
    {
     "name": "stdout",
     "output_type": "stream",
     "text": [
      "Please input your name: 123\n",
      "123\n",
      "<class 'str'>\n"
     ]
    }
   ],
   "source": [
    "# Cách nhập dữ liệu số 1 - dạng string\n",
    "name = input('Please input your name: ')\n",
    "print(name)\n",
    "print(type(name))"
   ]
  },
  {
   "cell_type": "code",
   "execution_count": 19,
   "id": "311a1e80",
   "metadata": {},
   "outputs": [
    {
     "name": "stdout",
     "output_type": "stream",
     "text": [
      "Please input your Kahoot mark: 3248\n",
      "3248\n",
      "<class 'int'>\n"
     ]
    }
   ],
   "source": [
    "# Nhập số nguyên - dạng ép kiểu\n",
    "score = int(input('Please input your Kahoot mark: '))\n",
    "print(score)\n",
    "print(type(score))"
   ]
  },
  {
   "cell_type": "markdown",
   "id": "337f9c15",
   "metadata": {},
   "source": [
    "#### Thực hành: Viết chương trình nhập vào chiều dài và chiều rộng của hình chữ nhật, sau đó in ra chu vi và diện tích của hình chữ nhật đó"
   ]
  },
  {
   "cell_type": "code",
   "execution_count": 25,
   "id": "add68103",
   "metadata": {},
   "outputs": [
    {
     "name": "stdout",
     "output_type": "stream",
     "text": [
      "Chieu dai: 100\n",
      "Chieu rong: 50\n"
     ]
    }
   ],
   "source": [
    "# Nhập các kích thước của hình chữ nhật\n",
    "chieu_dai = int(input('Chieu dai: '))\n",
    "chieu_rong = int(input('Chieu rong: '))"
   ]
  },
  {
   "cell_type": "code",
   "execution_count": 28,
   "id": "7a1cd73e",
   "metadata": {},
   "outputs": [],
   "source": [
    "# Tính toán chu vi, diện tích\n",
    "chu_vi = (chieu_dai + chieu_rong)*2\n",
    "dien_tich = chieu_dai * chieu_rong"
   ]
  },
  {
   "cell_type": "code",
   "execution_count": 42,
   "id": "d0adf735",
   "metadata": {},
   "outputs": [
    {
     "name": "stdout",
     "output_type": "stream",
     "text": [
      "Chu vi: 300 ,Diện tích 5000\n",
      "Chu vi: 300, Diện tích: 5000\n",
      "Chu vi: 300, Diện tích: 5000"
     ]
    }
   ],
   "source": [
    "# In kết quả ra màn hình bằng 3 cách\n",
    "# cách 1\n",
    "print(\"Chu vi:\", chu_vi, \"Diện tích\", dien_tich)\n",
    "\n",
    "# cách 2\n",
    "print(f'Chu vi: {chu_vi}, Diện tích: {dien_tich}')\n",
    "\n",
    "# cách 3\n",
    "print(\"Chu vi: \", end = '')\n",
    "print(chu_vi, end ='')\n",
    "print(\", Diện tích: \", end = '')\n",
    "print(dien_tich, end ='')"
   ]
  },
  {
   "cell_type": "markdown",
   "id": "fb54cb77",
   "metadata": {},
   "source": [
    "#### Thực hành: Viết chương trình nhập vào số đo cạnh và mã màu của tam giác đều, sau đó sử dụng turtle để vẽ ra hình tam giác có số đo và màu tương ứng"
   ]
  },
  {
   "cell_type": "code",
   "execution_count": 1,
   "id": "7583b308",
   "metadata": {},
   "outputs": [
    {
     "name": "stdout",
     "output_type": "stream",
     "text": [
      "Cạnh tam giác: 100\n",
      "Màu tam giác: Black\n"
     ]
    }
   ],
   "source": [
    "canh_tam_giac = int(input(\"Cạnh tam giác: \"))\n",
    "mau = input(\"Màu tam giác: \")\n",
    "\n",
    "import turtle\n",
    "pen = turtle.Turtle()\n",
    "pen.fillcolor(mau)\n",
    "\n",
    "pen.begin_fill()\n",
    "# Vẽ tam giác đều\n",
    "pen.circle(canh_tam_giac, steps=3) \n",
    "pen.end_fill()\n",
    "turtle.done()"
   ]
  },
  {
   "cell_type": "code",
   "execution_count": null,
   "id": "e3cde8ee",
   "metadata": {},
   "outputs": [],
   "source": []
  },
  {
   "cell_type": "markdown",
   "id": "fa7cb208",
   "metadata": {},
   "source": [
    "## Cú pháp import"
   ]
  },
  {
   "cell_type": "markdown",
   "id": "ab2a2ea5",
   "metadata": {},
   "source": [
    "Để sử dụng một module từ bên ngoài, chúng ta sẽ sử dụng từ khóa import. Sau đây là ví dụ về một số cách import phổ biến."
   ]
  },
  {
   "cell_type": "markdown",
   "id": "bd6de377",
   "metadata": {},
   "source": [
    "### Random một giá trị ngẫu nhiên"
   ]
  },
  {
   "cell_type": "code",
   "execution_count": null,
   "id": "ce5547f5",
   "metadata": {},
   "outputs": [],
   "source": []
  },
  {
   "cell_type": "markdown",
   "id": "dfa93dc0",
   "metadata": {},
   "source": [
    "### Thực hiện các phép toán số học"
   ]
  },
  {
   "cell_type": "code",
   "execution_count": 8,
   "id": "4f06f722",
   "metadata": {},
   "outputs": [],
   "source": [
    "# import toàn bộ module"
   ]
  },
  {
   "cell_type": "code",
   "execution_count": null,
   "id": "6b9e471b",
   "metadata": {},
   "outputs": [],
   "source": [
    "# import một phần trong module"
   ]
  },
  {
   "cell_type": "markdown",
   "id": "391969e7",
   "metadata": {},
   "source": [
    "## Xử lý String trong python"
   ]
  },
  {
   "cell_type": "markdown",
   "id": "ab461669",
   "metadata": {},
   "source": [
    "### String là gì?\n",
    "String là một chuỗi gồm các ký tự Unicode"
   ]
  },
  {
   "cell_type": "markdown",
   "id": "94a27b90",
   "metadata": {},
   "source": [
    "### Khởi tạo một string"
   ]
  },
  {
   "cell_type": "code",
   "execution_count": 2,
   "id": "b14f4fcc",
   "metadata": {},
   "outputs": [],
   "source": [
    "# one-line string\n",
    "course_name = \"Python Fundamental\""
   ]
  },
  {
   "cell_type": "code",
   "execution_count": 3,
   "id": "9cc506a7",
   "metadata": {},
   "outputs": [],
   "source": [
    "# multi-line string - phải để data trong cặp 3 nháy kép\n",
    "lesson_detail = \"\"\"\"Kết thúc bài học này, bạn có thể:\n",
    "- Biết cách input dữ liệu\n",
    "- Biết cách xuất dữ liệu\n",
    "- Biết cách xử lý string\n",
    "\"\"\""
   ]
  },
  {
   "attachments": {
    "image.png": {
     "image/png": "[encoded data removed]"
    }
   },
   "cell_type": "markdown",
   "id": "8f4270fd",
   "metadata": {},
   "source": [
    "### Các thao tác phổ biến với string\n",
    "![image.png](attachment:image.png)"
   ]
  },
  {
   "cell_type": "code",
   "execution_count": 5,
   "id": "c825f890",
   "metadata": {},
   "outputs": [
    {
     "name": "stdout",
     "output_type": "stream",
     "text": [
      "18\n"
     ]
    }
   ],
   "source": [
    "# Kiểm tra độ dài string\n",
    "print(len(course_name))"
   ]
  },
  {
   "cell_type": "code",
   "execution_count": 7,
   "id": "6de96621",
   "metadata": {},
   "outputs": [
    {
     "name": "stdout",
     "output_type": "stream",
     "text": [
      "o\n",
      "o\n"
     ]
    }
   ],
   "source": [
    "# Truy xuất ký tự bằng cơ chế indexing và reverse indexing\n",
    "content = \"hello\"\n",
    "\n",
    "# truy cập ký tự = indexing (theo chỉ số)\n",
    "print(content[4])\n",
    "\n",
    "# reverse indexing (đi chỉ số ngược)\n",
    "print(content[-1])\n"
   ]
  },
  {
   "cell_type": "markdown",
   "id": "a4f949d9",
   "metadata": {},
   "source": [
    "#### Thực hành: Viết chương trình nhập vào một chuỗi bất kỳ, sau đó in ra ký tự đầu tiên và ký tự cuối cùng của chuỗi đó."
   ]
  },
  {
   "cell_type": "code",
   "execution_count": 9,
   "id": "14833f18",
   "metadata": {},
   "outputs": [
    {
     "name": "stdout",
     "output_type": "stream",
     "text": [
      "Please input content: Hôm nay mạng lag ghê\n",
      "H\n",
      "ê\n"
     ]
    }
   ],
   "source": [
    "content = input(\"Please input content: \")\n",
    "print(content[0])\n",
    "print(content[-1])"
   ]
  },
  {
   "cell_type": "code",
   "execution_count": 9,
   "id": "9aad2f16",
   "metadata": {},
   "outputs": [
    {
     "name": "stdout",
     "output_type": "stream",
     "text": [
      "Luong\n",
      "Ln tn2-\n",
      "Ln tn2-\n",
      "6-4-2 ,nohtyP ,gnouL\n"
     ]
    }
   ],
   "source": [
    "# Cắt string theo index <> cú pháp: <tên biến>[start:end:step] \n",
    "content = 'Luong, Python, 2-4-6'\n",
    "content[0:5]\n",
    "print(content[0:5])\n",
    "# Bắt đầu từ ký tự đầu tiên, đến ký tự cuối cùng, lấy 3 ký tự\n",
    "# Cách 1\n",
    "print(content[0:len(content):3])\n",
    "# Cách 2 - cú pháp này : 1 là \n",
    "print(content[::3])   # start default là 0, end default là len(content)\n",
    "print(content[::-1]) # đảo ngược chuỗi"
   ]
  },
  {
   "cell_type": "code",
   "execution_count": 14,
   "id": "6ec63f90",
   "metadata": {},
   "outputs": [
    {
     "name": "stdout",
     "output_type": "stream",
     "text": [
      "HelloWorld\n",
      "HelloHelloHello\n"
     ]
    }
   ],
   "source": [
    "# Ghép chuỗi và lặp chuỗi\n",
    "a = 'Hello'\n",
    "b = 'World'\n",
    "print(a+b)\n",
    "print(a * 3)"
   ]
  },
  {
   "cell_type": "markdown",
   "id": "84c2dcb9",
   "metadata": {},
   "source": [
    "#### Thực hành: Xử lý và in ra các thông tin tương ứng trong chuỗi"
   ]
  },
  {
   "cell_type": "code",
   "execution_count": 34,
   "id": "cd71f135",
   "metadata": {
    "scrolled": true
   },
   "outputs": [
    {
     "name": "stdout",
     "output_type": "stream",
     "text": [
      "Luong\n",
      "Python\n",
      "2-4-6\n",
      "string 1\n"
     ]
    }
   ],
   "source": [
    "content = 'Luong, Python, 2-4-6, string 1'\n",
    "print(content[0:5]) # Luong\n",
    "print(content[7:13]) # Python\n",
    "print(content[15:20]) # 2-4-6\n",
    "print(content[22:]) # string1"
   ]
  },
  {
   "cell_type": "markdown",
   "id": "7cbd965f",
   "metadata": {},
   "source": [
    "### Các hàm thông dụng khi xử lý string"
   ]
  },
  {
   "cell_type": "code",
   "execution_count": 35,
   "id": "eb5932a1",
   "metadata": {},
   "outputs": [
    {
     "data": {
      "text/plain": [
       "18"
      ]
     },
     "execution_count": 35,
     "metadata": {},
     "output_type": "execute_result"
    }
   ],
   "source": [
    "# len\n",
    "content = \"Python Fundamental\"\n",
    "len(content)"
   ]
  },
  {
   "cell_type": "code",
   "execution_count": 38,
   "id": "6bef6d33",
   "metadata": {},
   "outputs": [
    {
     "name": "stdout",
     "output_type": "stream",
     "text": [
      "3\n",
      "1\n"
     ]
    }
   ],
   "source": [
    "# count\n",
    "print(content.count('n'))\n",
    "print(content.count('Python')) # có phân biệt viết hoa, viết thường."
   ]
  },
  {
   "cell_type": "code",
   "execution_count": 43,
   "id": "1582bbd8",
   "metadata": {},
   "outputs": [
    {
     "name": "stdout",
     "output_type": "stream",
     "text": [
      "PYTHON FUNDAMENTAL\n",
      "python fundamental\n",
      "Python fundamental\n"
     ]
    }
   ],
   "source": [
    "# upper, lower\n",
    "print(content.upper())\n",
    "print(content.lower())\n",
    "print(content.capitalize()) # chỉ viết hoa ký tự đầu tiên của string\n",
    "PyThOn FuNdaMetal --> Python Fundamental - nếu dùng capitalize chỉ viết hoa chữ P đầu, mình muốn viết hoa cả chữ F thì làm thế nào ạ?"
   ]
  },
  {
   "cell_type": "code",
   "execution_count": 57,
   "id": "0d08f708",
   "metadata": {},
   "outputs": [
    {
     "name": "stdout",
     "output_type": "stream",
     "text": [
      "Python    Fundamental        \n",
      "                  Python    Fundamental\n",
      "Python    Fundamental\n"
     ]
    }
   ],
   "source": [
    "# lstrip, rstrip, strip chỉ hỗ trợ cắt trái, cắt phải hoặc cắt 2 bên, ko có cắt giữa\n",
    "content = \"                  Python    Fundamental        \"\n",
    "print(content.lstrip())\n",
    "print(content.rstrip())\n",
    "print(content.strip())"
   ]
  },
  {
   "cell_type": "code",
   "execution_count": 51,
   "id": "62180d52",
   "metadata": {},
   "outputs": [
    {
     "name": "stdout",
     "output_type": "stream",
     "text": [
      "['Luong', ' Python', ' 2-4-6', ' string 1']\n"
     ]
    }
   ],
   "source": [
    "# split\n",
    "content = 'Luong, Python, 2-4-6, string 1'\n",
    "print(content.split(','))"
   ]
  },
  {
   "cell_type": "markdown",
   "id": "032ba1fc",
   "metadata": {},
   "source": []
  }
 ],
 "metadata": {
  "kernelspec": {
   "display_name": "Python 3 (ipykernel)",
   "language": "python",
   "name": "python3"
  },
  "language_info": {
   "codemirror_mode": {
    "name": "ipython",
    "version": 3
   },
   "file_extension": ".py",
   "mimetype": "text/x-python",
   "name": "python",
   "nbconvert_exporter": "python",
   "pygments_lexer": "ipython3",
   "version": "3.10.6"
  }
 },
 "nbformat": 4,
 "nbformat_minor": 5
}
