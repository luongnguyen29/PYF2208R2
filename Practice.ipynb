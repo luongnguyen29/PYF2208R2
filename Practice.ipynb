{
 "cells": [
  {
   "cell_type": "markdown",
   "id": "6c0755b4",
   "metadata": {},
   "source": [
    "## Bài 1\n",
    "Viết chương trình nhập vào 1 chuỗi và in ra các ký tự có index là số chẵn trong chuỗi\n",
    "\n",
    "VD: str = 'python\n",
    "\n",
    "Output: pto"
   ]
  },
  {
   "cell_type": "code",
   "execution_count": 2,
   "id": "91987413",
   "metadata": {},
   "outputs": [
    {
     "name": "stdout",
     "output_type": "stream",
     "text": [
      "hehehehe\n",
      "hhhh\n"
     ]
    }
   ],
   "source": [
    "name = input()\n",
    "print(name[::2])"
   ]
  },
  {
   "attachments": {
    "image.png": {
     "image/png": "[encoded data removed]"
    }
   },
   "cell_type": "markdown",
   "id": "44d11f40",
   "metadata": {},
   "source": [
    "## Bài 2 \n",
    "Nhập 1 số đo ở đơn vị m, in ra số đo vừa nhập ở đơn vị cm\n",
    "![image.png](attachment:image.png)"
   ]
  },
  {
   "cell_type": "code",
   "execution_count": 10,
   "id": "f4858e35",
   "metadata": {
    "scrolled": true
   },
   "outputs": [
    {
     "ename": "SyntaxError",
     "evalue": "expression cannot contain assignment, perhaps you meant \"==\"? (3958988321.py, line 3)",
     "output_type": "error",
     "traceback": [
      "\u001b[1;36m  Input \u001b[1;32mIn [10]\u001b[1;36m\u001b[0m\n\u001b[1;33m    print(f'{m} '=''{cm}')'\u001b[0m\n\u001b[1;37m          ^\u001b[0m\n\u001b[1;31mSyntaxError\u001b[0m\u001b[1;31m:\u001b[0m expression cannot contain assignment, perhaps you meant \"==\"?\n"
     ]
    }
   ],
   "source": [
    "m = float(input('Số đo: '))\n",
    "cm = m * 100\n",
    "print(f'{m} '=''{cm}'"
   ]
  },
  {
   "cell_type": "markdown",
   "id": "82a7a9a1",
   "metadata": {},
   "source": [
    "## Bài 3\n",
    "Nhập vào tien_luong_theo_gio va so_gio trong 1 thang, va tien_thuong. Sau đó in ra tổng thu nhập trong tháng\n",
    "\n",
    "Biết rằng: Tổng thu nhập = Tiền lương theo giờ * số giờ + tiền thưởng"
   ]
  },
  {
   "cell_type": "code",
   "execution_count": 17,
   "id": "44ad2709",
   "metadata": {},
   "outputs": [
    {
     "name": "stdout",
     "output_type": "stream",
     "text": [
      "Nhập tiền lương theo giờ: 150000\n",
      "Nhập số giờ: 150\n",
      "Nhập tiền thưởng: 5000000\n",
      "Tổng thu nhập trong tháng là: 27500000.0 VNĐ\n"
     ]
    }
   ],
   "source": [
    "tien_luong_theo_gio = float(input('Nhập tiền lương theo giờ: '))\n",
    "so_gio = float(input('Nhập số giờ: '))\n",
    "tien_thuong = float(input('Nhập tiền thưởng: '))\n",
    "tong_thu_nhap = tien_luong_theo_gio*so_gio+tien_thuong\n",
    "print(f'Tổng thu nhập trong tháng là: {tong_thu_nhap} VNĐ')"
   ]
  },
  {
   "cell_type": "markdown",
   "id": "646727f7",
   "metadata": {},
   "source": [
    "## Bài 4: \n",
    "Nhập vào 1 string và 1 số x. Hãy xóa x ký tự đầu tiên của string\n",
    "\n",
    "VD: Str = Hello Python, x = 3\n",
    "Output : lo Python"
   ]
  },
  {
   "cell_type": "code",
   "execution_count": 26,
   "id": "d15e698a",
   "metadata": {},
   "outputs": [
    {
     "name": "stdout",
     "output_type": "stream",
     "text": [
      "Nhập chuỗi ngẫu nhiên: Python Fundamental\n",
      "Nhập số ký tự muốn xóa: 3\n",
      "Kết quả là: hon Fundamental\n"
     ]
    }
   ],
   "source": [
    "string = input('Nhập chuỗi ngẫu nhiên: ')\n",
    "x = int(input('Nhập số ký tự muốn xóa: '))\n",
    "print(f'Kết quả là: {string[x:]}')"
   ]
  },
  {
   "cell_type": "markdown",
   "id": "02cf1037",
   "metadata": {},
   "source": [
    "## Bài 5\n",
    "Nhập vào 1 string. Kiểm tra xem đây có phải là 1 string đối xứng hay không.\n",
    "\n",
    "Chuỗi đối xứng là chuỗi có thứ tự giống nhau khi đọc từ trái sang phải và ngược lại\n",
    "VD: ABBA, ABCDCBA"
   ]
  },
  {
   "cell_type": "code",
   "execution_count": 52,
   "id": "67bdba65",
   "metadata": {
    "scrolled": true
   },
   "outputs": [
    {
     "name": "stdout",
     "output_type": "stream",
     "text": [
      "Nhập chuỗi ngẫu nhiên: LuongNguyen\n",
      "False\n"
     ]
    }
   ],
   "source": [
    "string = input('Nhập chuỗi ngẫu nhiên: ')\n",
    "reverse_string = string[::-1]\n",
    "print(string==reverse_string)"
   ]
  },
  {
   "cell_type": "code",
   "execution_count": 4,
   "id": "41b5cc9e",
   "metadata": {
    "scrolled": true
   },
   "outputs": [
    {
     "name": "stdout",
     "output_type": "stream",
     "text": [
      "h,e,l,l,o,"
     ]
    }
   ],
   "source": [
    "for i in \"hello\":\n",
    "    print(i, end=\",\")"
   ]
  },
  {
   "cell_type": "code",
   "execution_count": 17,
   "id": "a382971d",
   "metadata": {
    "scrolled": true
   },
   "outputs": [
    {
     "name": "stdout",
     "output_type": "stream",
     "text": [
      "Văn Anh Sử Địa "
     ]
    }
   ],
   "source": [
    "list = [\"Văn\", \"Anh\", \"Sử\", \"Địa\"]\n",
    "for i in list:\n",
    "    print(i, end=\" \")"
   ]
  },
  {
   "cell_type": "code",
   "execution_count": 18,
   "id": "95c992e8",
   "metadata": {},
   "outputs": [
    {
     "name": "stdout",
     "output_type": "stream",
     "text": [
      "1\n",
      "2\n",
      "Outside for loop\n"
     ]
    }
   ],
   "source": [
    "for i in [1,2,3,4,5]:\n",
    "    if i == 3:\n",
    "        break\n",
    "    print(i)\n",
    "else:\n",
    "    print('for loop is done')\n",
    "\n",
    "print(\"Outside for loop\")"
   ]
  },
  {
   "cell_type": "markdown",
   "id": "d01ddb0c",
   "metadata": {},
   "source": [
    "## 4. Bài tập: In các số từ 1-10 theo thứ tự giảm dần\n",
    "Yêu cầu là in các số từ 1 tới 10 theo thứ tự giảm dần. Với bài tập Python này, chúng ta chỉ cần sử dụng một vòng lặp for trong Python.\n",
    "\n",
    "Dưới đây là chương trình Python để in các số 1-10 theo thứ tự giảm dần."
   ]
  },
  {
   "cell_type": "code",
   "execution_count": 31,
   "id": "d42b19f3",
   "metadata": {},
   "outputs": [
    {
     "name": "stdout",
     "output_type": "stream",
     "text": [
      "Cách 1\n",
      "10987654321\n",
      "Cách 2\n",
      "10987654321"
     ]
    }
   ],
   "source": [
    "print(\"Cách 1\")\n",
    "for i in range(10,0,-1):\n",
    "    print(i, end=\"\")\n",
    "\n",
    "    \n",
    "print(\"\\nCách 2\")\n",
    "for i in reversed(range(1,11)):\n",
    "    print(i, end=\"\")\n"
   ]
  },
  {
   "cell_type": "markdown",
   "id": "6e97fd15",
   "metadata": {},
   "source": [
    "## 5. In bảng số từ 1 đến 100\n",
    "In một bảng số thỏa mãn điều kiện:\n",
    "\n",
    "Bảng số gồm 10 hàng và 10 cột\n",
    "Các giá trị trong Pythonột là liên tiếp nhau\n",
    "Các giá trị trong hàng hơn kém nhau 10\n",
    "Với bài tập Python này, chúng ta sử dụng lồng vòng lặp: vòng lặp bên ngoài sẽ điều khiển các hàng và vòng lặp bên trong điều khiển các cột."
   ]
  },
  {
   "cell_type": "code",
   "execution_count": 45,
   "id": "ea787dd0",
   "metadata": {
    "scrolled": true
   },
   "outputs": [
    {
     "name": "stdout",
     "output_type": "stream",
     "text": [
      "1 11 21 31 41 51 61 71 81 91 \n",
      "2 12 22 32 42 52 62 72 82 92 \n",
      "3 13 23 33 43 53 63 73 83 93 \n",
      "4 14 24 34 44 54 64 74 84 94 \n",
      "5 15 25 35 45 55 65 75 85 95 \n",
      "6 16 26 36 46 56 66 76 86 96 \n",
      "7 17 27 37 47 57 67 77 87 97 \n",
      "8 18 28 38 48 58 68 78 88 98 \n",
      "9 19 29 39 49 59 69 79 89 99 \n",
      "10 20 30 40 50 60 70 80 90 100 \n"
     ]
    }
   ],
   "source": [
    "for i in range(0,10):\n",
    "    for j in range(1,100,10):\n",
    "        print(j+i, end=\" \")\n",
    "    print()"
   ]
  },
  {
   "cell_type": "code",
   "execution_count": 49,
   "id": "05786ca7",
   "metadata": {
    "scrolled": true
   },
   "outputs": [
    {
     "name": "stdout",
     "output_type": "stream",
     "text": [
      "1\n",
      "2\n",
      "3\n",
      "4\n",
      "5\n",
      "6\n",
      "7\n",
      "8\n",
      "9\n"
     ]
    }
   ],
   "source": [
    "for i in range(1,10):\n",
    "    print(i)"
   ]
  },
  {
   "cell_type": "code",
   "execution_count": 53,
   "id": "6776910c",
   "metadata": {
    "scrolled": true
   },
   "outputs": [
    {
     "name": "stdout",
     "output_type": "stream",
     "text": [
      "10 20 30 40 50 60 70 80 90 100 "
     ]
    }
   ],
   "source": [
    "for j in range(1,100,10):\n",
    "    print(j+i, end=\" \")"
   ]
  },
  {
   "cell_type": "code",
   "execution_count": 54,
   "id": "b2b54fea",
   "metadata": {
    "scrolled": true
   },
   "outputs": [
    {
     "name": "stdout",
     "output_type": "stream",
     "text": [
      "In bang so:\n",
      "1   11  21  31  41  51  61  71  81  91  \n",
      "2   12  22  32  42  52  62  72  82  92  \n",
      "3   13  23  33  43  53  63  73  83  93  \n",
      "4   14  24  34  44  54  64  74  84  94  \n",
      "5   15  25  35  45  55  65  75  85  95  \n",
      "6   16  26  36  46  56  66  76  86  96  \n",
      "7   17  27  37  47  57  67  77  87  97  \n",
      "8   18  28  38  48  58  68  78  88  98  \n",
      "9   19  29  39  49  59  69  79  89  99  \n",
      "10  20  30  40  50  60  70  80  90  100 \n"
     ]
    }
   ],
   "source": [
    "print(\"In bang so:\")\n",
    "for i in range(0, 10):\n",
    "    for j in range(i+1, 101, 10):\n",
    "        print(\"{:<3}\".format(j), end=\" \")\n",
    "    print()"
   ]
  },
  {
   "cell_type": "code",
   "execution_count": 55,
   "id": "da480bfc",
   "metadata": {},
   "outputs": [
    {
     "name": "stdout",
     "output_type": "stream",
     "text": [
      "100 "
     ]
    }
   ],
   "source": [
    "print(\"{:<3}\".format(j), end=\" \")"
   ]
  },
  {
   "cell_type": "markdown",
   "id": "9230ed2a",
   "metadata": {},
   "source": [
    "## 6. Viết chương trình Python sử dụng ký tự * để vẽ tam giác đều trong Python.\n",
    "\n",
    "Vẽ một tam giác sao đều trong Python thỏa mãn điều kiện:\n",
    "\n",
    "Các cạnh bằng nhau.\n",
    "Một đỉnh nằm phía trên màn hình và cạnh đối diện với đỉnh này nằm dưới."
   ]
  },
  {
   "cell_type": "code",
   "execution_count": 41,
   "id": "57a009d1",
   "metadata": {
    "scrolled": true
   },
   "outputs": [
    {
     "name": "stdout",
     "output_type": "stream",
     "text": [
      "Nhập cạnh tam giác: 6\n",
      "     * \n",
      "    * * \n",
      "   * * * \n",
      "  * * * * \n",
      " * * * * * \n",
      "* * * * * * \n"
     ]
    }
   ],
   "source": [
    "num = int(input(\"Nhập cạnh tam giác: \"))\n",
    "for i in range(1,num+1):\n",
    "    for j in range(1,num+1-i):\n",
    "        print(\"\", end=\" \")\n",
    "    for k in range(1, i+1):\n",
    "        print(\"*\", end=\" \")\n",
    "    print()"
   ]
  },
  {
   "cell_type": "code",
   "execution_count": 39,
   "id": "9a0e2a7c",
   "metadata": {},
   "outputs": [
    {
     "name": "stdout",
     "output_type": "stream",
     "text": [
      "Nhập cạnh tam giác: 7\n",
      " * * * * * * * \n",
      "  * * * * * * \n",
      "   * * * * * \n",
      "    * * * * \n",
      "     * * * \n",
      "      * * \n",
      "       * \n"
     ]
    }
   ],
   "source": [
    "n = int(input(\"Nhập cạnh tam giác: \"))\n",
    "for i in range(1, n+1):\n",
    "    for j in range(1, i+1):\n",
    "        print(\"\", end = \" \");\n",
    "    for j in range(1, n+2-i):\n",
    "        print(\"*\", end=\" \");\n",
    "    print()"
   ]
  },
  {
   "cell_type": "code",
   "execution_count": 27,
   "id": "bd4f8b80",
   "metadata": {},
   "outputs": [
    {
     "name": "stdout",
     "output_type": "stream",
     "text": [
      "Nhập cạnh tam giác: 6\n",
      "* \n",
      "* * \n",
      "* * * \n",
      "* * * * \n",
      "* * * * * \n",
      "* * * * * * \n"
     ]
    }
   ],
   "source": [
    "num = int(input(\"Nhập cạnh tam giác: \"))\n",
    "for i in range(1,num+1):\n",
    "    for k in range(1, i+1):\n",
    "        print(\"*\", end=\" \")\n",
    "    print()\n",
    "    \n",
    "        "
   ]
  }
 ],
 "metadata": {
  "kernelspec": {
   "display_name": "Python 3 (ipykernel)",
   "language": "python",
   "name": "python3"
  },
  "language_info": {
   "codemirror_mode": {
    "name": "ipython",
    "version": 3
   },
   "file_extension": ".py",
   "mimetype": "text/x-python",
   "name": "python",
   "nbconvert_exporter": "python",
   "pygments_lexer": "ipython3",
   "version": "3.10.6"
  }
 },
 "nbformat": 4,
 "nbformat_minor": 5
}
