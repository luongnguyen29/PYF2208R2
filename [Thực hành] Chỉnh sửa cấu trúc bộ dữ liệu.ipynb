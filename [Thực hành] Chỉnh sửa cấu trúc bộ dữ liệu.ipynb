{
  "metadata": {
    "language_info": {
      "codemirror_mode": {
        "name": "python",
        "version": 3
      },
      "file_extension": ".py",
      "mimetype": "text/x-python",
      "name": "python",
      "nbconvert_exporter": "python",
      "pygments_lexer": "ipython3",
      "version": "3.8"
    },
    "kernelspec": {
      "name": "python",
      "display_name": "Python (Pyodide)",
      "language": "python"
    }
  },
  "nbformat_minor": 4,
  "nbformat": 4,
  "cells": [
    {
      "cell_type": "code",
      "source": "import pandas as pd\ndata = pd.read_csv('FoodPrice_in_Turkey.csv', encoding = 'ISO-8859-1')\ndata",
      "metadata": {
        "trusted": true
      },
      "execution_count": 6,
      "outputs": [
        {
          "execution_count": 6,
          "output_type": "execute_result",
          "data": {
            "text/plain": "                 Place  ProductId              ProductName  UmId UmName  \\\n0     National Average         52            Rice - Retail     5     KG   \n1     National Average         52            Rice - Retail     5     KG   \n2     National Average         52            Rice - Retail     5     KG   \n3     National Average         52            Rice - Retail     5     KG   \n4     National Average         52            Rice - Retail     5     KG   \n...                ...        ...                      ...   ...    ...   \n7376             Izmir        502  Cocoa (powder) - Retail     5     KG   \n7377             Izmir        502  Cocoa (powder) - Retail     5     KG   \n7378             Izmir        502  Cocoa (powder) - Retail     5     KG   \n7379             Izmir        502  Cocoa (powder) - Retail     5     KG   \n7380             Izmir        502  Cocoa (powder) - Retail     5     KG   \n\n      Month  Year    Price  \n0         5  2013   4.4920  \n1         6  2013   4.5786  \n2        11  2013   4.7865  \n3        12  2013   5.1337  \n4         1  2014   5.5099  \n...     ...   ...      ...  \n7376      8  2019  47.9040  \n7377      9  2019  49.1176  \n7378     10  2019  50.8347  \n7379     11  2019  51.7985  \n7380     12  2019  51.6071  \n\n[7381 rows x 8 columns]",
            "text/html": "<div>\n<style scoped>\n    .dataframe tbody tr th:only-of-type {\n        vertical-align: middle;\n    }\n\n    .dataframe tbody tr th {\n        vertical-align: top;\n    }\n\n    .dataframe thead th {\n        text-align: right;\n    }\n</style>\n<table border=\"1\" class=\"dataframe\">\n  <thead>\n    <tr style=\"text-align: right;\">\n      <th></th>\n      <th>Place</th>\n      <th>ProductId</th>\n      <th>ProductName</th>\n      <th>UmId</th>\n      <th>UmName</th>\n      <th>Month</th>\n      <th>Year</th>\n      <th>Price</th>\n    </tr>\n  </thead>\n  <tbody>\n    <tr>\n      <th>0</th>\n      <td>National Average</td>\n      <td>52</td>\n      <td>Rice - Retail</td>\n      <td>5</td>\n      <td>KG</td>\n      <td>5</td>\n      <td>2013</td>\n      <td>4.4920</td>\n    </tr>\n    <tr>\n      <th>1</th>\n      <td>National Average</td>\n      <td>52</td>\n      <td>Rice - Retail</td>\n      <td>5</td>\n      <td>KG</td>\n      <td>6</td>\n      <td>2013</td>\n      <td>4.5786</td>\n    </tr>\n    <tr>\n      <th>2</th>\n      <td>National Average</td>\n      <td>52</td>\n      <td>Rice - Retail</td>\n      <td>5</td>\n      <td>KG</td>\n      <td>11</td>\n      <td>2013</td>\n      <td>4.7865</td>\n    </tr>\n    <tr>\n      <th>3</th>\n      <td>National Average</td>\n      <td>52</td>\n      <td>Rice - Retail</td>\n      <td>5</td>\n      <td>KG</td>\n      <td>12</td>\n      <td>2013</td>\n      <td>5.1337</td>\n    </tr>\n    <tr>\n      <th>4</th>\n      <td>National Average</td>\n      <td>52</td>\n      <td>Rice - Retail</td>\n      <td>5</td>\n      <td>KG</td>\n      <td>1</td>\n      <td>2014</td>\n      <td>5.5099</td>\n    </tr>\n    <tr>\n      <th>...</th>\n      <td>...</td>\n      <td>...</td>\n      <td>...</td>\n      <td>...</td>\n      <td>...</td>\n      <td>...</td>\n      <td>...</td>\n      <td>...</td>\n    </tr>\n    <tr>\n      <th>7376</th>\n      <td>Izmir</td>\n      <td>502</td>\n      <td>Cocoa (powder) - Retail</td>\n      <td>5</td>\n      <td>KG</td>\n      <td>8</td>\n      <td>2019</td>\n      <td>47.9040</td>\n    </tr>\n    <tr>\n      <th>7377</th>\n      <td>Izmir</td>\n      <td>502</td>\n      <td>Cocoa (powder) - Retail</td>\n      <td>5</td>\n      <td>KG</td>\n      <td>9</td>\n      <td>2019</td>\n      <td>49.1176</td>\n    </tr>\n    <tr>\n      <th>7378</th>\n      <td>Izmir</td>\n      <td>502</td>\n      <td>Cocoa (powder) - Retail</td>\n      <td>5</td>\n      <td>KG</td>\n      <td>10</td>\n      <td>2019</td>\n      <td>50.8347</td>\n    </tr>\n    <tr>\n      <th>7379</th>\n      <td>Izmir</td>\n      <td>502</td>\n      <td>Cocoa (powder) - Retail</td>\n      <td>5</td>\n      <td>KG</td>\n      <td>11</td>\n      <td>2019</td>\n      <td>51.7985</td>\n    </tr>\n    <tr>\n      <th>7380</th>\n      <td>Izmir</td>\n      <td>502</td>\n      <td>Cocoa (powder) - Retail</td>\n      <td>5</td>\n      <td>KG</td>\n      <td>12</td>\n      <td>2019</td>\n      <td>51.6071</td>\n    </tr>\n  </tbody>\n</table>\n<p>7381 rows × 8 columns</p>\n</div>"
          },
          "metadata": {}
        }
      ]
    },
    {
      "cell_type": "code",
      "source": "#Đổi tên cột thuộc tính\ndata.rename(columns={'Place':'Địa điểm','ProductName':'Tên sản phẩm'}, inplace=True)\ndata.head()",
      "metadata": {
        "trusted": true
      },
      "execution_count": 8,
      "outputs": [
        {
          "execution_count": 8,
          "output_type": "execute_result",
          "data": {
            "text/plain": "           Địa điểm  ProductId   Tên sản phẩm  UmId UmName  Month  Year  \\\n0  National Average         52  Rice - Retail     5     KG      5  2013   \n1  National Average         52  Rice - Retail     5     KG      6  2013   \n2  National Average         52  Rice - Retail     5     KG     11  2013   \n3  National Average         52  Rice - Retail     5     KG     12  2013   \n4  National Average         52  Rice - Retail     5     KG      1  2014   \n\n    Price  \n0  4.4920  \n1  4.5786  \n2  4.7865  \n3  5.1337  \n4  5.5099  ",
            "text/html": "<div>\n<style scoped>\n    .dataframe tbody tr th:only-of-type {\n        vertical-align: middle;\n    }\n\n    .dataframe tbody tr th {\n        vertical-align: top;\n    }\n\n    .dataframe thead th {\n        text-align: right;\n    }\n</style>\n<table border=\"1\" class=\"dataframe\">\n  <thead>\n    <tr style=\"text-align: right;\">\n      <th></th>\n      <th>Địa điểm</th>\n      <th>ProductId</th>\n      <th>Tên sản phẩm</th>\n      <th>UmId</th>\n      <th>UmName</th>\n      <th>Month</th>\n      <th>Year</th>\n      <th>Price</th>\n    </tr>\n  </thead>\n  <tbody>\n    <tr>\n      <th>0</th>\n      <td>National Average</td>\n      <td>52</td>\n      <td>Rice - Retail</td>\n      <td>5</td>\n      <td>KG</td>\n      <td>5</td>\n      <td>2013</td>\n      <td>4.4920</td>\n    </tr>\n    <tr>\n      <th>1</th>\n      <td>National Average</td>\n      <td>52</td>\n      <td>Rice - Retail</td>\n      <td>5</td>\n      <td>KG</td>\n      <td>6</td>\n      <td>2013</td>\n      <td>4.5786</td>\n    </tr>\n    <tr>\n      <th>2</th>\n      <td>National Average</td>\n      <td>52</td>\n      <td>Rice - Retail</td>\n      <td>5</td>\n      <td>KG</td>\n      <td>11</td>\n      <td>2013</td>\n      <td>4.7865</td>\n    </tr>\n    <tr>\n      <th>3</th>\n      <td>National Average</td>\n      <td>52</td>\n      <td>Rice - Retail</td>\n      <td>5</td>\n      <td>KG</td>\n      <td>12</td>\n      <td>2013</td>\n      <td>5.1337</td>\n    </tr>\n    <tr>\n      <th>4</th>\n      <td>National Average</td>\n      <td>52</td>\n      <td>Rice - Retail</td>\n      <td>5</td>\n      <td>KG</td>\n      <td>1</td>\n      <td>2014</td>\n      <td>5.5099</td>\n    </tr>\n  </tbody>\n</table>\n</div>"
          },
          "metadata": {}
        }
      ]
    },
    {
      "cell_type": "code",
      "source": "#Thêm cột mới trong dataframe\ndata['new_column'] = 'NaN'\ndata.head()",
      "metadata": {
        "trusted": true
      },
      "execution_count": 9,
      "outputs": [
        {
          "execution_count": 9,
          "output_type": "execute_result",
          "data": {
            "text/plain": "           Địa điểm  ProductId   Tên sản phẩm  UmId UmName  Month  Year  \\\n0  National Average         52  Rice - Retail     5     KG      5  2013   \n1  National Average         52  Rice - Retail     5     KG      6  2013   \n2  National Average         52  Rice - Retail     5     KG     11  2013   \n3  National Average         52  Rice - Retail     5     KG     12  2013   \n4  National Average         52  Rice - Retail     5     KG      1  2014   \n\n    Price new_column  \n0  4.4920        NaN  \n1  4.5786        NaN  \n2  4.7865        NaN  \n3  5.1337        NaN  \n4  5.5099        NaN  ",
            "text/html": "<div>\n<style scoped>\n    .dataframe tbody tr th:only-of-type {\n        vertical-align: middle;\n    }\n\n    .dataframe tbody tr th {\n        vertical-align: top;\n    }\n\n    .dataframe thead th {\n        text-align: right;\n    }\n</style>\n<table border=\"1\" class=\"dataframe\">\n  <thead>\n    <tr style=\"text-align: right;\">\n      <th></th>\n      <th>Địa điểm</th>\n      <th>ProductId</th>\n      <th>Tên sản phẩm</th>\n      <th>UmId</th>\n      <th>UmName</th>\n      <th>Month</th>\n      <th>Year</th>\n      <th>Price</th>\n      <th>new_column</th>\n    </tr>\n  </thead>\n  <tbody>\n    <tr>\n      <th>0</th>\n      <td>National Average</td>\n      <td>52</td>\n      <td>Rice - Retail</td>\n      <td>5</td>\n      <td>KG</td>\n      <td>5</td>\n      <td>2013</td>\n      <td>4.4920</td>\n      <td>NaN</td>\n    </tr>\n    <tr>\n      <th>1</th>\n      <td>National Average</td>\n      <td>52</td>\n      <td>Rice - Retail</td>\n      <td>5</td>\n      <td>KG</td>\n      <td>6</td>\n      <td>2013</td>\n      <td>4.5786</td>\n      <td>NaN</td>\n    </tr>\n    <tr>\n      <th>2</th>\n      <td>National Average</td>\n      <td>52</td>\n      <td>Rice - Retail</td>\n      <td>5</td>\n      <td>KG</td>\n      <td>11</td>\n      <td>2013</td>\n      <td>4.7865</td>\n      <td>NaN</td>\n    </tr>\n    <tr>\n      <th>3</th>\n      <td>National Average</td>\n      <td>52</td>\n      <td>Rice - Retail</td>\n      <td>5</td>\n      <td>KG</td>\n      <td>12</td>\n      <td>2013</td>\n      <td>5.1337</td>\n      <td>NaN</td>\n    </tr>\n    <tr>\n      <th>4</th>\n      <td>National Average</td>\n      <td>52</td>\n      <td>Rice - Retail</td>\n      <td>5</td>\n      <td>KG</td>\n      <td>1</td>\n      <td>2014</td>\n      <td>5.5099</td>\n      <td>NaN</td>\n    </tr>\n  </tbody>\n</table>\n</div>"
          },
          "metadata": {}
        }
      ]
    },
    {
      "cell_type": "code",
      "source": "#Thêm cột giảm giá 10% cho tất cả các bản ghi\n#Cách 1: Gán tên cột dưới dạng một chuỗi và thêm giá trị cho cột đó\ndata['Giảm giá'] = pd.Series('10%', index=data.index)\ndata.head()",
      "metadata": {
        "trusted": true
      },
      "execution_count": 10,
      "outputs": [
        {
          "execution_count": 10,
          "output_type": "execute_result",
          "data": {
            "text/plain": "           Địa điểm  ProductId   Tên sản phẩm  UmId UmName  Month  Year  \\\n0  National Average         52  Rice - Retail     5     KG      5  2013   \n1  National Average         52  Rice - Retail     5     KG      6  2013   \n2  National Average         52  Rice - Retail     5     KG     11  2013   \n3  National Average         52  Rice - Retail     5     KG     12  2013   \n4  National Average         52  Rice - Retail     5     KG      1  2014   \n\n    Price new_column Giảm giá  \n0  4.4920        NaN      10%  \n1  4.5786        NaN      10%  \n2  4.7865        NaN      10%  \n3  5.1337        NaN      10%  \n4  5.5099        NaN      10%  ",
            "text/html": "<div>\n<style scoped>\n    .dataframe tbody tr th:only-of-type {\n        vertical-align: middle;\n    }\n\n    .dataframe tbody tr th {\n        vertical-align: top;\n    }\n\n    .dataframe thead th {\n        text-align: right;\n    }\n</style>\n<table border=\"1\" class=\"dataframe\">\n  <thead>\n    <tr style=\"text-align: right;\">\n      <th></th>\n      <th>Địa điểm</th>\n      <th>ProductId</th>\n      <th>Tên sản phẩm</th>\n      <th>UmId</th>\n      <th>UmName</th>\n      <th>Month</th>\n      <th>Year</th>\n      <th>Price</th>\n      <th>new_column</th>\n      <th>Giảm giá</th>\n    </tr>\n  </thead>\n  <tbody>\n    <tr>\n      <th>0</th>\n      <td>National Average</td>\n      <td>52</td>\n      <td>Rice - Retail</td>\n      <td>5</td>\n      <td>KG</td>\n      <td>5</td>\n      <td>2013</td>\n      <td>4.4920</td>\n      <td>NaN</td>\n      <td>10%</td>\n    </tr>\n    <tr>\n      <th>1</th>\n      <td>National Average</td>\n      <td>52</td>\n      <td>Rice - Retail</td>\n      <td>5</td>\n      <td>KG</td>\n      <td>6</td>\n      <td>2013</td>\n      <td>4.5786</td>\n      <td>NaN</td>\n      <td>10%</td>\n    </tr>\n    <tr>\n      <th>2</th>\n      <td>National Average</td>\n      <td>52</td>\n      <td>Rice - Retail</td>\n      <td>5</td>\n      <td>KG</td>\n      <td>11</td>\n      <td>2013</td>\n      <td>4.7865</td>\n      <td>NaN</td>\n      <td>10%</td>\n    </tr>\n    <tr>\n      <th>3</th>\n      <td>National Average</td>\n      <td>52</td>\n      <td>Rice - Retail</td>\n      <td>5</td>\n      <td>KG</td>\n      <td>12</td>\n      <td>2013</td>\n      <td>5.1337</td>\n      <td>NaN</td>\n      <td>10%</td>\n    </tr>\n    <tr>\n      <th>4</th>\n      <td>National Average</td>\n      <td>52</td>\n      <td>Rice - Retail</td>\n      <td>5</td>\n      <td>KG</td>\n      <td>1</td>\n      <td>2014</td>\n      <td>5.5099</td>\n      <td>NaN</td>\n      <td>10%</td>\n    </tr>\n  </tbody>\n</table>\n</div>"
          },
          "metadata": {}
        }
      ]
    },
    {
      "cell_type": "code",
      "source": "# Thêm cột giảm giá 12% cho tất cả các bản ghi\n# Cách 2: Sử dụng phương thức insert() gồm 3 đối số\n# - đối số đầu tiên là chỉ mục (vị trí) muốn chèn cột mới (chỉ mục là 10--> cột mới được thêm vào vị trí 11 của DataFrame)\n# - đối số thứ hai là tên của cột mới muốn chèn \n# - đối số thứ ba giá trị của cột\n\ndata.insert(10,'Giảm giá 2', pd.Series('12%', index=data.index))\ndata.head()",
      "metadata": {
        "trusted": true
      },
      "execution_count": 11,
      "outputs": [
        {
          "execution_count": 11,
          "output_type": "execute_result",
          "data": {
            "text/plain": "           Địa điểm  ProductId   Tên sản phẩm  UmId UmName  Month  Year  \\\n0  National Average         52  Rice - Retail     5     KG      5  2013   \n1  National Average         52  Rice - Retail     5     KG      6  2013   \n2  National Average         52  Rice - Retail     5     KG     11  2013   \n3  National Average         52  Rice - Retail     5     KG     12  2013   \n4  National Average         52  Rice - Retail     5     KG      1  2014   \n\n    Price new_column Giảm giá Giảm giá 2  \n0  4.4920        NaN      10%        12%  \n1  4.5786        NaN      10%        12%  \n2  4.7865        NaN      10%        12%  \n3  5.1337        NaN      10%        12%  \n4  5.5099        NaN      10%        12%  ",
            "text/html": "<div>\n<style scoped>\n    .dataframe tbody tr th:only-of-type {\n        vertical-align: middle;\n    }\n\n    .dataframe tbody tr th {\n        vertical-align: top;\n    }\n\n    .dataframe thead th {\n        text-align: right;\n    }\n</style>\n<table border=\"1\" class=\"dataframe\">\n  <thead>\n    <tr style=\"text-align: right;\">\n      <th></th>\n      <th>Địa điểm</th>\n      <th>ProductId</th>\n      <th>Tên sản phẩm</th>\n      <th>UmId</th>\n      <th>UmName</th>\n      <th>Month</th>\n      <th>Year</th>\n      <th>Price</th>\n      <th>new_column</th>\n      <th>Giảm giá</th>\n      <th>Giảm giá 2</th>\n    </tr>\n  </thead>\n  <tbody>\n    <tr>\n      <th>0</th>\n      <td>National Average</td>\n      <td>52</td>\n      <td>Rice - Retail</td>\n      <td>5</td>\n      <td>KG</td>\n      <td>5</td>\n      <td>2013</td>\n      <td>4.4920</td>\n      <td>NaN</td>\n      <td>10%</td>\n      <td>12%</td>\n    </tr>\n    <tr>\n      <th>1</th>\n      <td>National Average</td>\n      <td>52</td>\n      <td>Rice - Retail</td>\n      <td>5</td>\n      <td>KG</td>\n      <td>6</td>\n      <td>2013</td>\n      <td>4.5786</td>\n      <td>NaN</td>\n      <td>10%</td>\n      <td>12%</td>\n    </tr>\n    <tr>\n      <th>2</th>\n      <td>National Average</td>\n      <td>52</td>\n      <td>Rice - Retail</td>\n      <td>5</td>\n      <td>KG</td>\n      <td>11</td>\n      <td>2013</td>\n      <td>4.7865</td>\n      <td>NaN</td>\n      <td>10%</td>\n      <td>12%</td>\n    </tr>\n    <tr>\n      <th>3</th>\n      <td>National Average</td>\n      <td>52</td>\n      <td>Rice - Retail</td>\n      <td>5</td>\n      <td>KG</td>\n      <td>12</td>\n      <td>2013</td>\n      <td>5.1337</td>\n      <td>NaN</td>\n      <td>10%</td>\n      <td>12%</td>\n    </tr>\n    <tr>\n      <th>4</th>\n      <td>National Average</td>\n      <td>52</td>\n      <td>Rice - Retail</td>\n      <td>5</td>\n      <td>KG</td>\n      <td>1</td>\n      <td>2014</td>\n      <td>5.5099</td>\n      <td>NaN</td>\n      <td>10%</td>\n      <td>12%</td>\n    </tr>\n  </tbody>\n</table>\n</div>"
          },
          "metadata": {}
        }
      ]
    },
    {
      "cell_type": "code",
      "source": "#Thêm 1 dòng mới vào DataFrame - dùng append() thêm 1 dòng vào cuối DataFrame\ndata = data.append({'Địa điểm':'NA', 'ProductId':'RR', 'Tên SP':'Rice', 'UmId':10,'UmName':'KG','Month':6,'Year':2021,'Price':84.3785,'Giảm giá':'10%','Giảm giá 2':'12%'}, ignore_index=True)\ndata.tail()",
      "metadata": {
        "trusted": true
      },
      "execution_count": 14,
      "outputs": [
        {
          "name": "stderr",
          "text": "<ipython-input-14-31cf450e5728>:2: FutureWarning: The frame.append method is deprecated and will be removed from pandas in a future version. Use pandas.concat instead.\n  data = data.append({'Địa điểm':'NA', 'ProductId':'RR', 'Tên SP':'Rice', 'UmId':10,'UmName':'KG','Month':6,'Year':2021,'Price':84.3785,'Giảm giá':'10%','Giảm giá 2':'12%'}, ignore_index=True)\n",
          "output_type": "stream"
        },
        {
          "execution_count": 14,
          "output_type": "execute_result",
          "data": {
            "text/plain": "     Địa điểm ProductId             Tên sản phẩm  UmId UmName  Month  Year  \\\n7378    Izmir       502  Cocoa (powder) - Retail     5     KG     10  2019   \n7379    Izmir       502  Cocoa (powder) - Retail     5     KG     11  2019   \n7380    Izmir       502  Cocoa (powder) - Retail     5     KG     12  2019   \n7381       NA        RR                      NaN    10     KG      6  2021   \n7382       NA        RR                      NaN    10     KG      6  2021   \n\n        Price new_column Giảm giá Giảm giá 2 Tên SP  \n7378  50.8347        NaN      10%        12%    NaN  \n7379  51.7985        NaN      10%        12%    NaN  \n7380  51.6071        NaN      10%        12%    NaN  \n7381  84.3785        NaN      10%        12%   Rice  \n7382  84.3785        NaN      10%        12%   Rice  ",
            "text/html": "<div>\n<style scoped>\n    .dataframe tbody tr th:only-of-type {\n        vertical-align: middle;\n    }\n\n    .dataframe tbody tr th {\n        vertical-align: top;\n    }\n\n    .dataframe thead th {\n        text-align: right;\n    }\n</style>\n<table border=\"1\" class=\"dataframe\">\n  <thead>\n    <tr style=\"text-align: right;\">\n      <th></th>\n      <th>Địa điểm</th>\n      <th>ProductId</th>\n      <th>Tên sản phẩm</th>\n      <th>UmId</th>\n      <th>UmName</th>\n      <th>Month</th>\n      <th>Year</th>\n      <th>Price</th>\n      <th>new_column</th>\n      <th>Giảm giá</th>\n      <th>Giảm giá 2</th>\n      <th>Tên SP</th>\n    </tr>\n  </thead>\n  <tbody>\n    <tr>\n      <th>7378</th>\n      <td>Izmir</td>\n      <td>502</td>\n      <td>Cocoa (powder) - Retail</td>\n      <td>5</td>\n      <td>KG</td>\n      <td>10</td>\n      <td>2019</td>\n      <td>50.8347</td>\n      <td>NaN</td>\n      <td>10%</td>\n      <td>12%</td>\n      <td>NaN</td>\n    </tr>\n    <tr>\n      <th>7379</th>\n      <td>Izmir</td>\n      <td>502</td>\n      <td>Cocoa (powder) - Retail</td>\n      <td>5</td>\n      <td>KG</td>\n      <td>11</td>\n      <td>2019</td>\n      <td>51.7985</td>\n      <td>NaN</td>\n      <td>10%</td>\n      <td>12%</td>\n      <td>NaN</td>\n    </tr>\n    <tr>\n      <th>7380</th>\n      <td>Izmir</td>\n      <td>502</td>\n      <td>Cocoa (powder) - Retail</td>\n      <td>5</td>\n      <td>KG</td>\n      <td>12</td>\n      <td>2019</td>\n      <td>51.6071</td>\n      <td>NaN</td>\n      <td>10%</td>\n      <td>12%</td>\n      <td>NaN</td>\n    </tr>\n    <tr>\n      <th>7381</th>\n      <td>NA</td>\n      <td>RR</td>\n      <td>NaN</td>\n      <td>10</td>\n      <td>KG</td>\n      <td>6</td>\n      <td>2021</td>\n      <td>84.3785</td>\n      <td>NaN</td>\n      <td>10%</td>\n      <td>12%</td>\n      <td>Rice</td>\n    </tr>\n    <tr>\n      <th>7382</th>\n      <td>NA</td>\n      <td>RR</td>\n      <td>NaN</td>\n      <td>10</td>\n      <td>KG</td>\n      <td>6</td>\n      <td>2021</td>\n      <td>84.3785</td>\n      <td>NaN</td>\n      <td>10%</td>\n      <td>12%</td>\n      <td>Rice</td>\n    </tr>\n  </tbody>\n</table>\n</div>"
          },
          "metadata": {}
        }
      ]
    },
    {
      "cell_type": "code",
      "source": "#Xóa một cột - sử dụng del\ndel data['new_column']\ndata.head()",
      "metadata": {
        "trusted": true
      },
      "execution_count": 15,
      "outputs": [
        {
          "execution_count": 15,
          "output_type": "execute_result",
          "data": {
            "text/plain": "           Địa điểm ProductId   Tên sản phẩm  UmId UmName  Month  Year  \\\n0  National Average        52  Rice - Retail     5     KG      5  2013   \n1  National Average        52  Rice - Retail     5     KG      6  2013   \n2  National Average        52  Rice - Retail     5     KG     11  2013   \n3  National Average        52  Rice - Retail     5     KG     12  2013   \n4  National Average        52  Rice - Retail     5     KG      1  2014   \n\n    Price Giảm giá Giảm giá 2 Tên SP  \n0  4.4920      10%        12%    NaN  \n1  4.5786      10%        12%    NaN  \n2  4.7865      10%        12%    NaN  \n3  5.1337      10%        12%    NaN  \n4  5.5099      10%        12%    NaN  ",
            "text/html": "<div>\n<style scoped>\n    .dataframe tbody tr th:only-of-type {\n        vertical-align: middle;\n    }\n\n    .dataframe tbody tr th {\n        vertical-align: top;\n    }\n\n    .dataframe thead th {\n        text-align: right;\n    }\n</style>\n<table border=\"1\" class=\"dataframe\">\n  <thead>\n    <tr style=\"text-align: right;\">\n      <th></th>\n      <th>Địa điểm</th>\n      <th>ProductId</th>\n      <th>Tên sản phẩm</th>\n      <th>UmId</th>\n      <th>UmName</th>\n      <th>Month</th>\n      <th>Year</th>\n      <th>Price</th>\n      <th>Giảm giá</th>\n      <th>Giảm giá 2</th>\n      <th>Tên SP</th>\n    </tr>\n  </thead>\n  <tbody>\n    <tr>\n      <th>0</th>\n      <td>National Average</td>\n      <td>52</td>\n      <td>Rice - Retail</td>\n      <td>5</td>\n      <td>KG</td>\n      <td>5</td>\n      <td>2013</td>\n      <td>4.4920</td>\n      <td>10%</td>\n      <td>12%</td>\n      <td>NaN</td>\n    </tr>\n    <tr>\n      <th>1</th>\n      <td>National Average</td>\n      <td>52</td>\n      <td>Rice - Retail</td>\n      <td>5</td>\n      <td>KG</td>\n      <td>6</td>\n      <td>2013</td>\n      <td>4.5786</td>\n      <td>10%</td>\n      <td>12%</td>\n      <td>NaN</td>\n    </tr>\n    <tr>\n      <th>2</th>\n      <td>National Average</td>\n      <td>52</td>\n      <td>Rice - Retail</td>\n      <td>5</td>\n      <td>KG</td>\n      <td>11</td>\n      <td>2013</td>\n      <td>4.7865</td>\n      <td>10%</td>\n      <td>12%</td>\n      <td>NaN</td>\n    </tr>\n    <tr>\n      <th>3</th>\n      <td>National Average</td>\n      <td>52</td>\n      <td>Rice - Retail</td>\n      <td>5</td>\n      <td>KG</td>\n      <td>12</td>\n      <td>2013</td>\n      <td>5.1337</td>\n      <td>10%</td>\n      <td>12%</td>\n      <td>NaN</td>\n    </tr>\n    <tr>\n      <th>4</th>\n      <td>National Average</td>\n      <td>52</td>\n      <td>Rice - Retail</td>\n      <td>5</td>\n      <td>KG</td>\n      <td>1</td>\n      <td>2014</td>\n      <td>5.5099</td>\n      <td>10%</td>\n      <td>12%</td>\n      <td>NaN</td>\n    </tr>\n  </tbody>\n</table>\n</div>"
          },
          "metadata": {}
        }
      ]
    },
    {
      "cell_type": "code",
      "source": "#Xóa cột sử dụng phương thức pop()\n#Phương thức pop trả về cột đã xóa\ndata.pop('Giảm giá 2')",
      "metadata": {
        "trusted": true
      },
      "execution_count": 16,
      "outputs": [
        {
          "execution_count": 16,
          "output_type": "execute_result",
          "data": {
            "text/plain": "0       12%\n1       12%\n2       12%\n3       12%\n4       12%\n       ... \n7378    12%\n7379    12%\n7380    12%\n7381    12%\n7382    12%\nName: Giảm giá 2, Length: 7383, dtype: object"
          },
          "metadata": {}
        }
      ]
    },
    {
      "cell_type": "code",
      "source": "#Xóa 1 cột sử dụng phương thức drop()\n# Cú pháp: df.drop('column_name', axis=1, inplace=True)\n# Trong đó axis = 1 là xóa cột; inplace = True xóa trục tiếp trên dữ liệu gốc mà không phải tạo bản sao\n\ndata.drop('Tên SP', axis=1, inplace=True)\ndata",
      "metadata": {
        "trusted": true
      },
      "execution_count": 19,
      "outputs": [
        {
          "execution_count": 19,
          "output_type": "execute_result",
          "data": {
            "text/plain": "              Địa điểm ProductId             Tên sản phẩm  UmId UmName  Month  \\\n0     National Average        52            Rice - Retail     5     KG      5   \n1     National Average        52            Rice - Retail     5     KG      6   \n2     National Average        52            Rice - Retail     5     KG     11   \n3     National Average        52            Rice - Retail     5     KG     12   \n4     National Average        52            Rice - Retail     5     KG      1   \n...                ...       ...                      ...   ...    ...    ...   \n7378             Izmir       502  Cocoa (powder) - Retail     5     KG     10   \n7379             Izmir       502  Cocoa (powder) - Retail     5     KG     11   \n7380             Izmir       502  Cocoa (powder) - Retail     5     KG     12   \n7381                NA        RR                      NaN    10     KG      6   \n7382                NA        RR                      NaN    10     KG      6   \n\n      Year    Price  \n0     2013   4.4920  \n1     2013   4.5786  \n2     2013   4.7865  \n3     2013   5.1337  \n4     2014   5.5099  \n...    ...      ...  \n7378  2019  50.8347  \n7379  2019  51.7985  \n7380  2019  51.6071  \n7381  2021  84.3785  \n7382  2021  84.3785  \n\n[7383 rows x 8 columns]",
            "text/html": "<div>\n<style scoped>\n    .dataframe tbody tr th:only-of-type {\n        vertical-align: middle;\n    }\n\n    .dataframe tbody tr th {\n        vertical-align: top;\n    }\n\n    .dataframe thead th {\n        text-align: right;\n    }\n</style>\n<table border=\"1\" class=\"dataframe\">\n  <thead>\n    <tr style=\"text-align: right;\">\n      <th></th>\n      <th>Địa điểm</th>\n      <th>ProductId</th>\n      <th>Tên sản phẩm</th>\n      <th>UmId</th>\n      <th>UmName</th>\n      <th>Month</th>\n      <th>Year</th>\n      <th>Price</th>\n    </tr>\n  </thead>\n  <tbody>\n    <tr>\n      <th>0</th>\n      <td>National Average</td>\n      <td>52</td>\n      <td>Rice - Retail</td>\n      <td>5</td>\n      <td>KG</td>\n      <td>5</td>\n      <td>2013</td>\n      <td>4.4920</td>\n    </tr>\n    <tr>\n      <th>1</th>\n      <td>National Average</td>\n      <td>52</td>\n      <td>Rice - Retail</td>\n      <td>5</td>\n      <td>KG</td>\n      <td>6</td>\n      <td>2013</td>\n      <td>4.5786</td>\n    </tr>\n    <tr>\n      <th>2</th>\n      <td>National Average</td>\n      <td>52</td>\n      <td>Rice - Retail</td>\n      <td>5</td>\n      <td>KG</td>\n      <td>11</td>\n      <td>2013</td>\n      <td>4.7865</td>\n    </tr>\n    <tr>\n      <th>3</th>\n      <td>National Average</td>\n      <td>52</td>\n      <td>Rice - Retail</td>\n      <td>5</td>\n      <td>KG</td>\n      <td>12</td>\n      <td>2013</td>\n      <td>5.1337</td>\n    </tr>\n    <tr>\n      <th>4</th>\n      <td>National Average</td>\n      <td>52</td>\n      <td>Rice - Retail</td>\n      <td>5</td>\n      <td>KG</td>\n      <td>1</td>\n      <td>2014</td>\n      <td>5.5099</td>\n    </tr>\n    <tr>\n      <th>...</th>\n      <td>...</td>\n      <td>...</td>\n      <td>...</td>\n      <td>...</td>\n      <td>...</td>\n      <td>...</td>\n      <td>...</td>\n      <td>...</td>\n    </tr>\n    <tr>\n      <th>7378</th>\n      <td>Izmir</td>\n      <td>502</td>\n      <td>Cocoa (powder) - Retail</td>\n      <td>5</td>\n      <td>KG</td>\n      <td>10</td>\n      <td>2019</td>\n      <td>50.8347</td>\n    </tr>\n    <tr>\n      <th>7379</th>\n      <td>Izmir</td>\n      <td>502</td>\n      <td>Cocoa (powder) - Retail</td>\n      <td>5</td>\n      <td>KG</td>\n      <td>11</td>\n      <td>2019</td>\n      <td>51.7985</td>\n    </tr>\n    <tr>\n      <th>7380</th>\n      <td>Izmir</td>\n      <td>502</td>\n      <td>Cocoa (powder) - Retail</td>\n      <td>5</td>\n      <td>KG</td>\n      <td>12</td>\n      <td>2019</td>\n      <td>51.6071</td>\n    </tr>\n    <tr>\n      <th>7381</th>\n      <td>NA</td>\n      <td>RR</td>\n      <td>NaN</td>\n      <td>10</td>\n      <td>KG</td>\n      <td>6</td>\n      <td>2021</td>\n      <td>84.3785</td>\n    </tr>\n    <tr>\n      <th>7382</th>\n      <td>NA</td>\n      <td>RR</td>\n      <td>NaN</td>\n      <td>10</td>\n      <td>KG</td>\n      <td>6</td>\n      <td>2021</td>\n      <td>84.3785</td>\n    </tr>\n  </tbody>\n</table>\n<p>7383 rows × 8 columns</p>\n</div>"
          },
          "metadata": {}
        }
      ]
    },
    {
      "cell_type": "code",
      "source": "#Xóa nhiều cột sử dụng phương thức drop()\n# Cú pháp: df.drop('column_name', axis=1, inplace=True)\n# Trong đó axis = 1 là xóa cột; inplace = True xóa trục tiếp trên dữ liệu gốc mà không phải tạo bản sao\n\ndata.drop(['Month','Year'], axis=1, inplace=True)\ndata",
      "metadata": {
        "trusted": true
      },
      "execution_count": 20,
      "outputs": [
        {
          "execution_count": 20,
          "output_type": "execute_result",
          "data": {
            "text/plain": "              Địa điểm ProductId             Tên sản phẩm  UmId UmName  \\\n0     National Average        52            Rice - Retail     5     KG   \n1     National Average        52            Rice - Retail     5     KG   \n2     National Average        52            Rice - Retail     5     KG   \n3     National Average        52            Rice - Retail     5     KG   \n4     National Average        52            Rice - Retail     5     KG   \n...                ...       ...                      ...   ...    ...   \n7378             Izmir       502  Cocoa (powder) - Retail     5     KG   \n7379             Izmir       502  Cocoa (powder) - Retail     5     KG   \n7380             Izmir       502  Cocoa (powder) - Retail     5     KG   \n7381                NA        RR                      NaN    10     KG   \n7382                NA        RR                      NaN    10     KG   \n\n        Price  \n0      4.4920  \n1      4.5786  \n2      4.7865  \n3      5.1337  \n4      5.5099  \n...       ...  \n7378  50.8347  \n7379  51.7985  \n7380  51.6071  \n7381  84.3785  \n7382  84.3785  \n\n[7383 rows x 6 columns]",
            "text/html": "<div>\n<style scoped>\n    .dataframe tbody tr th:only-of-type {\n        vertical-align: middle;\n    }\n\n    .dataframe tbody tr th {\n        vertical-align: top;\n    }\n\n    .dataframe thead th {\n        text-align: right;\n    }\n</style>\n<table border=\"1\" class=\"dataframe\">\n  <thead>\n    <tr style=\"text-align: right;\">\n      <th></th>\n      <th>Địa điểm</th>\n      <th>ProductId</th>\n      <th>Tên sản phẩm</th>\n      <th>UmId</th>\n      <th>UmName</th>\n      <th>Price</th>\n    </tr>\n  </thead>\n  <tbody>\n    <tr>\n      <th>0</th>\n      <td>National Average</td>\n      <td>52</td>\n      <td>Rice - Retail</td>\n      <td>5</td>\n      <td>KG</td>\n      <td>4.4920</td>\n    </tr>\n    <tr>\n      <th>1</th>\n      <td>National Average</td>\n      <td>52</td>\n      <td>Rice - Retail</td>\n      <td>5</td>\n      <td>KG</td>\n      <td>4.5786</td>\n    </tr>\n    <tr>\n      <th>2</th>\n      <td>National Average</td>\n      <td>52</td>\n      <td>Rice - Retail</td>\n      <td>5</td>\n      <td>KG</td>\n      <td>4.7865</td>\n    </tr>\n    <tr>\n      <th>3</th>\n      <td>National Average</td>\n      <td>52</td>\n      <td>Rice - Retail</td>\n      <td>5</td>\n      <td>KG</td>\n      <td>5.1337</td>\n    </tr>\n    <tr>\n      <th>4</th>\n      <td>National Average</td>\n      <td>52</td>\n      <td>Rice - Retail</td>\n      <td>5</td>\n      <td>KG</td>\n      <td>5.5099</td>\n    </tr>\n    <tr>\n      <th>...</th>\n      <td>...</td>\n      <td>...</td>\n      <td>...</td>\n      <td>...</td>\n      <td>...</td>\n      <td>...</td>\n    </tr>\n    <tr>\n      <th>7378</th>\n      <td>Izmir</td>\n      <td>502</td>\n      <td>Cocoa (powder) - Retail</td>\n      <td>5</td>\n      <td>KG</td>\n      <td>50.8347</td>\n    </tr>\n    <tr>\n      <th>7379</th>\n      <td>Izmir</td>\n      <td>502</td>\n      <td>Cocoa (powder) - Retail</td>\n      <td>5</td>\n      <td>KG</td>\n      <td>51.7985</td>\n    </tr>\n    <tr>\n      <th>7380</th>\n      <td>Izmir</td>\n      <td>502</td>\n      <td>Cocoa (powder) - Retail</td>\n      <td>5</td>\n      <td>KG</td>\n      <td>51.6071</td>\n    </tr>\n    <tr>\n      <th>7381</th>\n      <td>NA</td>\n      <td>RR</td>\n      <td>NaN</td>\n      <td>10</td>\n      <td>KG</td>\n      <td>84.3785</td>\n    </tr>\n    <tr>\n      <th>7382</th>\n      <td>NA</td>\n      <td>RR</td>\n      <td>NaN</td>\n      <td>10</td>\n      <td>KG</td>\n      <td>84.3785</td>\n    </tr>\n  </tbody>\n</table>\n<p>7383 rows × 6 columns</p>\n</div>"
          },
          "metadata": {}
        }
      ]
    },
    {
      "cell_type": "code",
      "source": "#6. Xóa các dòng trong Data Frame\n# Cú pháp: df.drop(Chỉ số dòng cần xóa, axis=0, inplace=True)\n# axis = 0 là giá trị mặc định có thể viết tường minh hoặc không\n# Xóa dòng có chỉ số 1 (dòng thứ 2) sử dụng phương thức drop()\n\ndata.drop(2, axis=0, inplace=True)\ndata\n",
      "metadata": {
        "trusted": true
      },
      "execution_count": 21,
      "outputs": [
        {
          "execution_count": 21,
          "output_type": "execute_result",
          "data": {
            "text/plain": "              Địa điểm ProductId             Tên sản phẩm  UmId UmName  \\\n0     National Average        52            Rice - Retail     5     KG   \n1     National Average        52            Rice - Retail     5     KG   \n3     National Average        52            Rice - Retail     5     KG   \n4     National Average        52            Rice - Retail     5     KG   \n5     National Average        52            Rice - Retail     5     KG   \n...                ...       ...                      ...   ...    ...   \n7378             Izmir       502  Cocoa (powder) - Retail     5     KG   \n7379             Izmir       502  Cocoa (powder) - Retail     5     KG   \n7380             Izmir       502  Cocoa (powder) - Retail     5     KG   \n7381                NA        RR                      NaN    10     KG   \n7382                NA        RR                      NaN    10     KG   \n\n        Price  \n0      4.4920  \n1      4.5786  \n3      5.1337  \n4      5.5099  \n5      5.8146  \n...       ...  \n7378  50.8347  \n7379  51.7985  \n7380  51.6071  \n7381  84.3785  \n7382  84.3785  \n\n[7382 rows x 6 columns]",
            "text/html": "<div>\n<style scoped>\n    .dataframe tbody tr th:only-of-type {\n        vertical-align: middle;\n    }\n\n    .dataframe tbody tr th {\n        vertical-align: top;\n    }\n\n    .dataframe thead th {\n        text-align: right;\n    }\n</style>\n<table border=\"1\" class=\"dataframe\">\n  <thead>\n    <tr style=\"text-align: right;\">\n      <th></th>\n      <th>Địa điểm</th>\n      <th>ProductId</th>\n      <th>Tên sản phẩm</th>\n      <th>UmId</th>\n      <th>UmName</th>\n      <th>Price</th>\n    </tr>\n  </thead>\n  <tbody>\n    <tr>\n      <th>0</th>\n      <td>National Average</td>\n      <td>52</td>\n      <td>Rice - Retail</td>\n      <td>5</td>\n      <td>KG</td>\n      <td>4.4920</td>\n    </tr>\n    <tr>\n      <th>1</th>\n      <td>National Average</td>\n      <td>52</td>\n      <td>Rice - Retail</td>\n      <td>5</td>\n      <td>KG</td>\n      <td>4.5786</td>\n    </tr>\n    <tr>\n      <th>3</th>\n      <td>National Average</td>\n      <td>52</td>\n      <td>Rice - Retail</td>\n      <td>5</td>\n      <td>KG</td>\n      <td>5.1337</td>\n    </tr>\n    <tr>\n      <th>4</th>\n      <td>National Average</td>\n      <td>52</td>\n      <td>Rice - Retail</td>\n      <td>5</td>\n      <td>KG</td>\n      <td>5.5099</td>\n    </tr>\n    <tr>\n      <th>5</th>\n      <td>National Average</td>\n      <td>52</td>\n      <td>Rice - Retail</td>\n      <td>5</td>\n      <td>KG</td>\n      <td>5.8146</td>\n    </tr>\n    <tr>\n      <th>...</th>\n      <td>...</td>\n      <td>...</td>\n      <td>...</td>\n      <td>...</td>\n      <td>...</td>\n      <td>...</td>\n    </tr>\n    <tr>\n      <th>7378</th>\n      <td>Izmir</td>\n      <td>502</td>\n      <td>Cocoa (powder) - Retail</td>\n      <td>5</td>\n      <td>KG</td>\n      <td>50.8347</td>\n    </tr>\n    <tr>\n      <th>7379</th>\n      <td>Izmir</td>\n      <td>502</td>\n      <td>Cocoa (powder) - Retail</td>\n      <td>5</td>\n      <td>KG</td>\n      <td>51.7985</td>\n    </tr>\n    <tr>\n      <th>7380</th>\n      <td>Izmir</td>\n      <td>502</td>\n      <td>Cocoa (powder) - Retail</td>\n      <td>5</td>\n      <td>KG</td>\n      <td>51.6071</td>\n    </tr>\n    <tr>\n      <th>7381</th>\n      <td>NA</td>\n      <td>RR</td>\n      <td>NaN</td>\n      <td>10</td>\n      <td>KG</td>\n      <td>84.3785</td>\n    </tr>\n    <tr>\n      <th>7382</th>\n      <td>NA</td>\n      <td>RR</td>\n      <td>NaN</td>\n      <td>10</td>\n      <td>KG</td>\n      <td>84.3785</td>\n    </tr>\n  </tbody>\n</table>\n<p>7382 rows × 6 columns</p>\n</div>"
          },
          "metadata": {}
        }
      ]
    },
    {
      "cell_type": "code",
      "source": "# Xóa các dòng có chỉ số 7377 và 7379 sử dụng phương thức drop()\n\ndata.drop([7377,7379], inplace=True)\ndata.",
      "metadata": {},
      "execution_count": null,
      "outputs": []
    }
  ]
}