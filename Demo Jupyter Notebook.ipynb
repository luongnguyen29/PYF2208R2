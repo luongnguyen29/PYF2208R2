{
 "cells": [
  {
   "cell_type": "markdown",
   "id": "70d5e82b",
   "metadata": {},
   "source": [
    "Cái này để chạy màn hình code"
   ]
  },
  {
   "cell_type": "code",
   "execution_count": 18,
   "id": "aa66a4ef",
   "metadata": {},
   "outputs": [
    {
     "name": "stdout",
     "output_type": "stream",
     "text": [
      "Hello world \n",
      "My name is Luong Nguyen \n",
      "Im studying Python Fundamental\n"
     ]
    }
   ],
   "source": [
    "print('Hello world \\nMy name is Luong Nguyen \\nIm studying Python Fundamental')"
   ]
  }
 ],
 "metadata": {
  "kernelspec": {
   "display_name": "Python 3 (ipykernel)",
   "language": "python",
   "name": "python3"
  },
  "language_info": {
   "codemirror_mode": {
    "name": "ipython",
    "version": 3
   },
   "file_extension": ".py",
   "mimetype": "text/x-python",
   "name": "python",
   "nbconvert_exporter": "python",
   "pygments_lexer": "ipython3",
   "version": "3.10.6"
  }
 },
 "nbformat": 4,
 "nbformat_minor": 5
}
