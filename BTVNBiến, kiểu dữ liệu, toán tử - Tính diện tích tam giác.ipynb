{
 "cells": [
  {
   "cell_type": "code",
   "execution_count": 3,
   "id": "21525c40",
   "metadata": {},
   "outputs": [
    {
     "name": "stdout",
     "output_type": "stream",
     "text": [
      "Nhập vào 1 cạnh của tam giác: 3\n",
      "Nhập vào 1 cạnh cảu tam giác: 4\n",
      "Nhập vào 1 cạnh của tam giác: 5\n",
      "Diện tích tam giác là: 36.0\n"
     ]
    }
   ],
   "source": [
    "a = float(input(\"Nhập vào 1 cạnh của tam giác: \"))\n",
    "b = float(input(\"Nhập vào 1 cạnh cảu tam giác: \"))\n",
    "c = float(input(\"Nhập vào 1 cạnh của tam giác: \"))\n",
    "\n",
    "chu_vi = (a+b+c)/2\n",
    "dien_tich = (chu_vi*(chu_vi-a)*chu_vi*(chu_vi-b)*chu_vi*(chu_vi-c))**0.5\n",
    "print(f'Diện tích tam giác là: {dien_tich}')"
   ]
  }
 ],
 "metadata": {
  "kernelspec": {
   "display_name": "Python 3 (ipykernel)",
   "language": "python",
   "name": "python3"
  },
  "language_info": {
   "codemirror_mode": {
    "name": "ipython",
    "version": 3
   },
   "file_extension": ".py",
   "mimetype": "text/x-python",
   "name": "python",
   "nbconvert_exporter": "python",
   "pygments_lexer": "ipython3",
   "version": "3.10.6"
  }
 },
 "nbformat": 4,
 "nbformat_minor": 5
}
